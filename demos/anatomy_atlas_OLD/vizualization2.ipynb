{
 "cells": [
  {
   "cell_type": "code",
   "execution_count": 4,
   "id": "823897ef",
   "metadata": {},
   "outputs": [],
   "source": [
    "import pyvista as pv\n",
    "from pyvista import demos\n",
    "\n",
    "import nndt\n",
    "from nndt.math_core import barycentric_grid, grid_in_cube2"
   ]
  },
  {
   "cell_type": "code",
   "execution_count": 5,
   "id": "bbd9d609",
   "metadata": {},
   "outputs": [
    {
     "name": "stdout",
     "output_type": "stream",
     "text": [
      "pyvista_test2.ipynb    sdf_multiple_files\t     sdf_multiple_files.py\r\n",
      "pyvista_test.ipynb     sdf_multiple_files_check      sdt2sdf_check\r\n",
      "sdf_check.py\t       sdf_multiple_files_LipMLP     sdt2sdf_default\r\n",
      "sdf_multiple_check.py  sdf_multiple_files_LipMLP.py  sdt2sdf.py\r\n"
     ]
    }
   ],
   "source": [
    "!ls"
   ]
  },
  {
   "cell_type": "code",
   "execution_count": 6,
   "id": "8906feb1",
   "metadata": {},
   "outputs": [
    {
     "name": "stderr",
     "output_type": "stream",
     "text": [
      "WARNING:absl:No GPU/TPU found, falling back to CPU. (Set TF_CPP_MIN_LOG_LEVEL=0 and rerun for more info.)\n"
     ]
    }
   ],
   "source": []
  },
  {
   "cell_type": "code",
   "execution_count": 52,
   "id": "651b66c0",
   "metadata": {},
   "outputs": [
    {
     "data": {
      "application/vnd.jupyter.widget-view+json": {
       "model_id": "d1ff914640c546d79fb01a0a9621709e",
       "version_major": 2,
       "version_minor": 0
      },
      "text/plain": [
       "ViewInteractiveWidget(height=768, layout=Layout(height='auto', width='100%'), width=1024)"
      ]
     },
     "metadata": {},
     "output_type": "display_data"
    }
   ],
   "source": [
    "pl = pv.Plotter()\n",
    "\n",
    "bary = barycentric_grid(order=(0, 1, 2), spacing=(0, 5, 5), filter_negative=True)\n",
    "for i, c in enumerate(bary):\n",
    "    mesh = pv.read(f\"./sdf_multiple_files_check/SDF_{c[0]}_{c[1]}_{c[2]}.obj\")\n",
    "    mesh.translate(xyz=(350*c[2], 350*c[1], 350*c[0]))\n",
    "    if (c[0] == 1) or (c[1] == 1) or (c[2] == 1):\n",
    "        pl.add_mesh(mesh, color='lightpink')\n",
    "    else:\n",
    "        pl.add_mesh(mesh)\n",
    "        \n",
    "pl.camera.azimuth += 45.\n",
    "pl.camera.roll += 0.\n",
    "pl.camera.elevation += -180\n",
    "pl.set_background('white')\n",
    "pl.show()"
   ]
  },
  {
   "cell_type": "code",
   "execution_count": 54,
   "id": "b490ef2c",
   "metadata": {},
   "outputs": [
    {
     "data": {
      "application/vnd.jupyter.widget-view+json": {
       "model_id": "8e351a0918674b789826223faa46cbd4",
       "version_major": 2,
       "version_minor": 0
      },
      "text/plain": [
       "ViewInteractiveWidget(height=768, layout=Layout(height='auto', width='100%'), width=1024)"
      ]
     },
     "metadata": {},
     "output_type": "display_data"
    }
   ],
   "source": [
    "pl = pv.Plotter()\n",
    "\n",
    "bary = barycentric_grid(order = ((-1, -2), (-1, 2), (1, -2), (1, 2)), spacing = (0, 5, 5), filter_negative = True)\n",
    "for i, c in enumerate(bary):\n",
    "    mesh = pv.read(f\"./sdf_multiple_files_check/SDF2_{c[0]}_{c[1]}_{c[2]}_{c[3]}.obj\")\n",
    "    mesh.translate(xyz=(120*(i//5), 120*(i%5), 0))\n",
    "    if (c[0] == 1) or (c[1] == 1) or (c[2] == 1) or (c[3] == 1):\n",
    "        pl.add_mesh(mesh, color='lightpink')\n",
    "    else:\n",
    "        pl.add_mesh(mesh)\n",
    "        \n",
    "pl.camera.azimuth += 45.\n",
    "#pl.camera.roll += 0.\n",
    "pl.camera.elevation += -120\n",
    "pl.set_background('white')\n",
    "pl.show()"
   ]
  },
  {
   "cell_type": "code",
   "execution_count": 30,
   "id": "2baf9c9e",
   "metadata": {},
   "outputs": [
    {
     "data": {
      "text/plain": [
       "(25, 4)"
      ]
     },
     "execution_count": 30,
     "metadata": {},
     "output_type": "execute_result"
    }
   ],
   "source": [
    "bary.shape"
   ]
  },
  {
   "cell_type": "code",
   "execution_count": null,
   "id": "209de5a4",
   "metadata": {},
   "outputs": [],
   "source": []
  }
 ],
 "metadata": {
  "kernelspec": {
   "display_name": "Python 3 (ipykernel)",
   "language": "python",
   "name": "python3"
  },
  "language_info": {
   "codemirror_mode": {
    "name": "ipython",
    "version": 3
   },
   "file_extension": ".py",
   "mimetype": "text/x-python",
   "name": "python",
   "nbconvert_exporter": "python",
   "pygments_lexer": "ipython3",
   "version": "3.10.4"
  }
 },
 "nbformat": 4,
 "nbformat_minor": 5
}
