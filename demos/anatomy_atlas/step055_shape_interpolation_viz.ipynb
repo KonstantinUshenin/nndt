{
 "cells": [
  {
   "cell_type": "code",
   "execution_count": 1,
   "id": "f04b25c3",
   "metadata": {},
   "outputs": [],
   "source": [
    "import pyvista as pv\n",
    "from pyvista import demos\n",
    "\n",
    "import nndt\n",
    "from nndt.math_core import barycentric_grid, grid_in_cube2"
   ]
  },
  {
   "cell_type": "code",
   "execution_count": 2,
   "id": "b868a85a",
   "metadata": {},
   "outputs": [
    {
     "name": "stdout",
     "output_type": "stream",
     "text": [
      "SDF2_0.0.obj  SDF2_0.25.obj  SDF2_0.5.obj  SDF2_0.75.obj  SDF2_1.0.obj\r\n"
     ]
    }
   ],
   "source": [
    "!ls shape_interpolation_viz_2"
   ]
  },
  {
   "cell_type": "code",
   "execution_count": 4,
   "id": "bfbb8d8e",
   "metadata": {},
   "outputs": [
    {
     "data": {
      "application/vnd.jupyter.widget-view+json": {
       "model_id": "cd9f6698cc7b421da296e0835d2a4ffb",
       "version_major": 2,
       "version_minor": 0
      },
      "text/plain": [
       "ViewInteractiveWidget(height=768, layout=Layout(height='auto', width='100%'), width=1024)"
      ]
     },
     "metadata": {},
     "output_type": "display_data"
    }
   ],
   "source": [
    "pl = pv.Plotter()\n",
    "\n",
    "bary = barycentric_grid(order=(-1, 1), spacing=(0, 5), filter_negative=True)\n",
    "for i, c in enumerate(bary):\n",
    "    mesh = pv.read(f\"./shape_interpolation_viz_2/SDF2_{c[0]}.obj\")\n",
    "    mesh.translate(xyz=(450 * c[0], 0, 0))\n",
    "    if (c[0] == 0) or (c[0] == 1):\n",
    "        pl.add_mesh(mesh, color=\"lightpink\")\n",
    "    else:\n",
    "        pl.add_mesh(mesh)\n",
    "\n",
    "pl.camera.azimuth += 45.0\n",
    "pl.camera.roll += 0.0\n",
    "pl.camera.elevation += -180\n",
    "pl.set_background(\"white\")\n",
    "pl.show()"
   ]
  },
  {
   "cell_type": "code",
   "execution_count": null,
   "id": "5f561cfd",
   "metadata": {},
   "outputs": [],
   "source": []
  },
  {
   "cell_type": "code",
   "execution_count": null,
   "id": "832293e5",
   "metadata": {},
   "outputs": [],
   "source": []
  }
 ],
 "metadata": {
  "kernelspec": {
   "display_name": "Python 3 (ipykernel)",
   "language": "python",
   "name": "python3"
  },
  "language_info": {
   "codemirror_mode": {
    "name": "ipython",
    "version": 3
   },
   "file_extension": ".py",
   "mimetype": "text/x-python",
   "name": "python",
   "nbconvert_exporter": "python",
   "pygments_lexer": "ipython3",
   "version": "3.10.4"
  }
 },
 "nbformat": 4,
 "nbformat_minor": 5
}
