{
 "cells": [
  {
   "cell_type": "code",
   "execution_count": 35,
   "id": "f04b25c3",
   "metadata": {},
   "outputs": [],
   "source": [
    "import pyvista as pv\n",
    "from pyvista import demos\n",
    "\n",
    "import nndt\n",
    "from nndt.math_core import barycentric_grid, grid_in_cube2"
   ]
  },
  {
   "cell_type": "code",
   "execution_count": 36,
   "id": "b868a85a",
   "metadata": {},
   "outputs": [
    {
     "name": "stdout",
     "output_type": "stream",
     "text": [
      "SDF2_0.0.obj  SDF2_0.25.obj  SDF2_0.5.obj  SDF2_0.75.obj  SDF2_1.0.obj\r\n"
     ]
    }
   ],
   "source": [
    "!ls shape_interpolation_viz_2"
   ]
  },
  {
   "cell_type": "code",
   "execution_count": 37,
   "id": "bfbb8d8e",
   "metadata": {},
   "outputs": [
    {
     "data": {
      "application/vnd.jupyter.widget-view+json": {
       "model_id": "fb10815a2d1c4b129f325592e0973655",
       "version_major": 2,
       "version_minor": 0
      },
      "text/plain": [
       "ViewInteractiveWidget(height=768, layout=Layout(height='auto', width='100%'), width=1024)"
      ]
     },
     "metadata": {},
     "output_type": "display_data"
    }
   ],
   "source": [
    "pl = pv.Plotter()\n",
    "\n",
    "bary = barycentric_grid(order=(-1, 1), spacing=(0, 5), filter_negative=True)\n",
    "for i, c in enumerate(bary):\n",
    "    mesh = pv.read(f\"./shape_interpolation_viz_LipMLP_2/SDF2_{c[0]}.obj\")\n",
    "    mesh.translate(xyz=(450 * c[0], 0, 0))\n",
    "    if (c[0] == 0) or (c[0] == 1):\n",
    "        pl.add_mesh(mesh, color=\"lightpink\")\n",
    "    else:\n",
    "        pl.add_mesh(mesh)\n",
    "\n",
    "pl.camera.azimuth += 45.0\n",
    "pl.camera.roll += 0.0\n",
    "pl.camera.elevation += -180\n",
    "pl.set_background(\"white\")\n",
    "pl.show()"
   ]
  },
  {
   "cell_type": "code",
   "execution_count": 38,
   "id": "5f561cfd",
   "metadata": {},
   "outputs": [
    {
     "data": {
      "application/vnd.jupyter.widget-view+json": {
       "model_id": "df86ba775ac24e08a553c45ebc2c1a3e",
       "version_major": 2,
       "version_minor": 0
      },
      "text/plain": [
       "ViewInteractiveWidget(height=768, layout=Layout(height='auto', width='100%'), width=1024)"
      ]
     },
     "metadata": {},
     "output_type": "display_data"
    }
   ],
   "source": [
    "pl = pv.Plotter()\n",
    "\n",
    "bary = barycentric_grid(order=(0, 1, 2), spacing=(0, 5, 5), filter_negative=True)\n",
    "for i, c in enumerate(bary):\n",
    "    mesh = pv.read(f\"./shape_interpolation_viz_LipMLP_3/SDF3_{c[0]}_{c[1]}_{c[2]}.obj\")\n",
    "    mesh.translate(xyz=(450 * c[0], -450 * c[1], -450 * c[2]))\n",
    "    if (\n",
    "        (list(c) == [0.0, 0.0, 1.0])\n",
    "        or (list(c) == [0.0, 1.0, 0.0])\n",
    "        or (list(c) == [1.0, 0.0, 0.0])\n",
    "    ):\n",
    "        pl.add_mesh(mesh, color=\"lightpink\")\n",
    "    else:\n",
    "        pl.add_mesh(mesh)\n",
    "\n",
    "pl.camera.azimuth += 45.0\n",
    "pl.camera.roll += 0.0\n",
    "pl.camera.elevation += -180\n",
    "pl.set_background(\"white\")\n",
    "pl.show()"
   ]
  },
  {
   "cell_type": "code",
   "execution_count": 49,
   "id": "832293e5",
   "metadata": {},
   "outputs": [
    {
     "data": {
      "application/vnd.jupyter.widget-view+json": {
       "model_id": "a757e9aeedaf4266bb2d943abab89d9e",
       "version_major": 2,
       "version_minor": 0
      },
      "text/plain": [
       "ViewInteractiveWidget(height=768, layout=Layout(height='auto', width='100%'), width=1024)"
      ]
     },
     "metadata": {},
     "output_type": "display_data"
    }
   ],
   "source": [
    "pl = pv.Plotter()\n",
    "\n",
    "bary = barycentric_grid(\n",
    "    order=((-1, -2), (-1, 2), (1, -2), (1, 2)), spacing=(0, 5, 5), filter_negative=True\n",
    ")\n",
    "\n",
    "for i, c in enumerate(bary):\n",
    "    mesh = pv.read(\n",
    "        f\"./shape_interpolation_viz_LipMLP_4/SDF4_{c[0]}_{c[1]}_{c[2]}_{c[3]}.obj\"\n",
    "    )\n",
    "    mesh.translate(xyz=(120 * (i // 5), 0, 120 * (i % 5)))\n",
    "    if (\n",
    "        (list(c) == [0.0, 0.0, 0.0, 1.0])\n",
    "        or (list(c) == [0.0, 0.0, 1.0, 0.0])\n",
    "        or (list(c) == [0.0, 1.0, 0.0, 0.0])\n",
    "        or (list(c) == [1.0, 0.0, 0.0, 0.0])\n",
    "    ):\n",
    "        pl.add_mesh(mesh, color=\"lightpink\")\n",
    "    else:\n",
    "        pl.add_mesh(mesh)\n",
    "\n",
    "pl.camera.azimuth += 45.0\n",
    "pl.camera.roll += 0.0\n",
    "pl.camera.elevation += -180\n",
    "pl.set_background(\"white\")\n",
    "pl.show()"
   ]
  },
  {
   "cell_type": "code",
   "execution_count": null,
   "id": "516444a4",
   "metadata": {},
   "outputs": [],
   "source": []
  }
 ],
 "metadata": {
  "kernelspec": {
   "display_name": "Python 3 (ipykernel)",
   "language": "python",
   "name": "python3"
  },
  "language_info": {
   "codemirror_mode": {
    "name": "ipython",
    "version": 3
   },
   "file_extension": ".py",
   "mimetype": "text/x-python",
   "name": "python",
   "nbconvert_exporter": "python",
   "pygments_lexer": "ipython3",
   "version": "3.10.4"
  }
 },
 "nbformat": 4,
 "nbformat_minor": 5
}
