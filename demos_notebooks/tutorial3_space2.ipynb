{
 "cells": [
  {
   "cell_type": "markdown",
   "id": "a941bcb5",
   "metadata": {},
   "source": [
    "Space2 is a pandas for 3D objects."
   ]
  },
  {
   "cell_type": "code",
   "execution_count": 2,
   "id": "ed8bed35",
   "metadata": {},
   "outputs": [
    {
     "data": {
      "text/plain": [
       "'0.0.2a4'"
      ]
     },
     "execution_count": 2,
     "metadata": {},
     "output_type": "execute_result"
    }
   ],
   "source": [
    "import nndt\n",
    "import nndt.space2 as spc\n",
    "nndt.__version__"
   ]
  },
  {
   "cell_type": "markdown",
   "id": "efcf77a8",
   "metadata": {},
   "source": [
    "`spc.load_from_path` detects files in some path and loads objects automatically.\n",
    "\n",
    "NOTE! nndt v0.0.2 supports folder structures only with equal depth of pathes."
   ]
  },
  {
   "cell_type": "code",
   "execution_count": 11,
   "id": "5f855906",
   "metadata": {},
   "outputs": [
    {
     "name": "stdout",
     "output_type": "stream",
     "text": [
      "\u001b[31mS:space\u001b[37m 0.0.2a4\u001b[39m\n",
      "├── \u001b[34mO3D:patient009\u001b[37m ((0.00, 0.00, 0.00), (0.00, 0.00, 0.00))\u001b[39m\n",
      "│   ├── \u001b[32mFS:colored_obj\u001b[37m mesh_obj ../tests/acdc_for_test/patient009/colored.obj\u001b[39m\n",
      "│   ├── \u001b[32mFS:sdf_npy\u001b[37m sdt ../tests/acdc_for_test/patient009/sdf.npy\u001b[39m\n",
      "│   ├── \u001b[39mplot(default, filepath=None)\u001b[39m\n",
      "│   └── \u001b[39mprint(default|source|full)\u001b[39m\n",
      "├── \u001b[34mO3D:patient029\u001b[37m ((0.00, 0.00, 0.00), (0.00, 0.00, 0.00))\u001b[39m\n",
      "│   ├── \u001b[32mFS:colored_obj\u001b[37m mesh_obj ../tests/acdc_for_test/patient029/colored.obj\u001b[39m\n",
      "│   ├── \u001b[32mFS:sdf_npy\u001b[37m sdt ../tests/acdc_for_test/patient029/sdf.npy\u001b[39m\n",
      "│   ├── \u001b[39mplot(default, filepath=None)\u001b[39m\n",
      "│   └── \u001b[39mprint(default|source|full)\u001b[39m\n",
      "├── \u001b[34mO3D:patient049\u001b[37m ((0.00, 0.00, 0.00), (0.00, 0.00, 0.00))\u001b[39m\n",
      "│   ├── \u001b[32mFS:colored_obj\u001b[37m mesh_obj ../tests/acdc_for_test/patient049/colored.obj\u001b[39m\n",
      "│   ├── \u001b[32mFS:sdf_npy\u001b[37m sdt ../tests/acdc_for_test/patient049/sdf.npy\u001b[39m\n",
      "│   ├── \u001b[39mplot(default, filepath=None)\u001b[39m\n",
      "│   └── \u001b[39mprint(default|source|full)\u001b[39m\n",
      "├── \u001b[34mO3D:patient069\u001b[37m ((0.00, 0.00, 0.00), (0.00, 0.00, 0.00))\u001b[39m\n",
      "│   ├── \u001b[32mFS:colored_obj\u001b[37m mesh_obj ../tests/acdc_for_test/patient069/colored.obj\u001b[39m\n",
      "│   ├── \u001b[32mFS:sdf_npy\u001b[37m sdt ../tests/acdc_for_test/patient069/sdf.npy\u001b[39m\n",
      "│   ├── \u001b[39mplot(default, filepath=None)\u001b[39m\n",
      "│   └── \u001b[39mprint(default|source|full)\u001b[39m\n",
      "├── \u001b[34mO3D:patient089\u001b[37m ((0.00, 0.00, 0.00), (0.00, 0.00, 0.00))\u001b[39m\n",
      "│   ├── \u001b[32mFS:colored_obj\u001b[37m mesh_obj ../tests/acdc_for_test/patient089/colored.obj\u001b[39m\n",
      "│   ├── \u001b[32mFS:sdf_npy\u001b[37m sdt ../tests/acdc_for_test/patient089/sdf.npy\u001b[39m\n",
      "│   ├── \u001b[39mplot(default, filepath=None)\u001b[39m\n",
      "│   └── \u001b[39mprint(default|source|full)\u001b[39m\n",
      "├── \u001b[39minit()\u001b[39m\n",
      "├── \u001b[39mplot(default, filepath=None)\u001b[39m\n",
      "├── \u001b[39mpreload(identity|shift_and_scale|to_cube, scale, keep_in_memory=True)\u001b[39m\n",
      "├── \u001b[39mprint(default|source|full)\u001b[39m\n",
      "├── \u001b[39msave_space(filepath)\u001b[39m\n",
      "└── \u001b[39mto_json()\u001b[39m\n"
     ]
    }
   ],
   "source": [
    "space = spc.load_from_path(\"../tests/acdc_for_test\")\n",
    "space.init()\n",
    "print(space.print())"
   ]
  },
  {
   "cell_type": "code",
   "execution_count": 7,
   "id": "4d010981",
   "metadata": {},
   "outputs": [
    {
     "name": "stdout",
     "output_type": "stream",
     "text": [
      "test.space\t\t\t\t    tutorial2_trainable_tasks.ipynb\r\n",
      "tutorial1_space_model_and_generators.ipynb  tutorial3_space2.ipynb\r\n"
     ]
    }
   ],
   "source": [
    "!ls"
   ]
  },
  {
   "cell_type": "code",
   "execution_count": 13,
   "id": "08eaddf0",
   "metadata": {},
   "outputs": [],
   "source": [
    "space = spc.load_space('./test.space')"
   ]
  },
  {
   "cell_type": "code",
   "execution_count": 12,
   "id": "649408df",
   "metadata": {},
   "outputs": [
    {
     "name": "stdout",
     "output_type": "stream",
     "text": [
      "\u001b[31mS:space\u001b[37m 0.0.2a4\u001b[39m\n",
      "├── \u001b[34mO3D:patient009\u001b[37m ((0.00, 0.00, 0.00), (0.00, 0.00, 0.00))\u001b[39m\n",
      "│   ├── \u001b[32mFS:colored_obj\u001b[37m mesh_obj ../tests/acdc_for_test/patient009/colored.obj\u001b[39m\n",
      "│   ├── \u001b[32mFS:sdf_npy\u001b[37m sdt ../tests/acdc_for_test/patient009/sdf.npy\u001b[39m\n",
      "│   ├── \u001b[39mplot(default, filepath=None)\u001b[39m\n",
      "│   └── \u001b[39mprint(default|source|full)\u001b[39m\n",
      "├── \u001b[34mO3D:patient029\u001b[37m ((0.00, 0.00, 0.00), (0.00, 0.00, 0.00))\u001b[39m\n",
      "│   ├── \u001b[32mFS:colored_obj\u001b[37m mesh_obj ../tests/acdc_for_test/patient029/colored.obj\u001b[39m\n",
      "│   ├── \u001b[32mFS:sdf_npy\u001b[37m sdt ../tests/acdc_for_test/patient029/sdf.npy\u001b[39m\n",
      "│   ├── \u001b[39mplot(default, filepath=None)\u001b[39m\n",
      "│   └── \u001b[39mprint(default|source|full)\u001b[39m\n",
      "├── \u001b[34mO3D:patient049\u001b[37m ((0.00, 0.00, 0.00), (0.00, 0.00, 0.00))\u001b[39m\n",
      "│   ├── \u001b[32mFS:colored_obj\u001b[37m mesh_obj ../tests/acdc_for_test/patient049/colored.obj\u001b[39m\n",
      "│   ├── \u001b[32mFS:sdf_npy\u001b[37m sdt ../tests/acdc_for_test/patient049/sdf.npy\u001b[39m\n",
      "│   ├── \u001b[39mplot(default, filepath=None)\u001b[39m\n",
      "│   └── \u001b[39mprint(default|source|full)\u001b[39m\n",
      "├── \u001b[34mO3D:patient069\u001b[37m ((0.00, 0.00, 0.00), (0.00, 0.00, 0.00))\u001b[39m\n",
      "│   ├── \u001b[32mFS:colored_obj\u001b[37m mesh_obj ../tests/acdc_for_test/patient069/colored.obj\u001b[39m\n",
      "│   ├── \u001b[32mFS:sdf_npy\u001b[37m sdt ../tests/acdc_for_test/patient069/sdf.npy\u001b[39m\n",
      "│   ├── \u001b[39mplot(default, filepath=None)\u001b[39m\n",
      "│   └── \u001b[39mprint(default|source|full)\u001b[39m\n",
      "├── \u001b[34mO3D:patient089\u001b[37m ((0.00, 0.00, 0.00), (0.00, 0.00, 0.00))\u001b[39m\n",
      "│   ├── \u001b[32mFS:colored_obj\u001b[37m mesh_obj ../tests/acdc_for_test/patient089/colored.obj\u001b[39m\n",
      "│   ├── \u001b[32mFS:sdf_npy\u001b[37m sdt ../tests/acdc_for_test/patient089/sdf.npy\u001b[39m\n",
      "│   ├── \u001b[39mplot(default, filepath=None)\u001b[39m\n",
      "│   └── \u001b[39mprint(default|source|full)\u001b[39m\n",
      "├── \u001b[39minit()\u001b[39m\n",
      "├── \u001b[39mplot(default, filepath=None)\u001b[39m\n",
      "├── \u001b[39mpreload(identity|shift_and_scale|to_cube, scale, keep_in_memory=True)\u001b[39m\n",
      "├── \u001b[39mprint(default|source|full)\u001b[39m\n",
      "├── \u001b[39msave_space(filepath)\u001b[39m\n",
      "└── \u001b[39mto_json()\u001b[39m\n"
     ]
    }
   ],
   "source": [
    "print(space.print())"
   ]
  },
  {
   "cell_type": "markdown",
   "id": "a0cdcfbd",
   "metadata": {},
   "source": [
    "After file detection, each file must be readed at least once. `.preload()` do this"
   ]
  },
  {
   "cell_type": "code",
   "execution_count": 14,
   "id": "0fc4b103",
   "metadata": {},
   "outputs": [
    {
     "data": {
      "application/vnd.jupyter.widget-view+json": {
       "model_id": "a626b12b6b7742b3a2a2eeb19dbffce3",
       "version_major": 2,
       "version_minor": 0
      },
      "text/plain": [
       "ViewInteractiveWidget(height=768, layout=Layout(height='auto', width='100%'), width=1024)"
      ]
     },
     "metadata": {},
     "output_type": "display_data"
    }
   ],
   "source": [
    "#space = spc.load_from_path(\"../tests/acdc_for_test\")\n",
    "space.preload()\n",
    "space.plot()"
   ]
  },
  {
   "cell_type": "markdown",
   "id": "cdd7b0a4",
   "metadata": {},
   "source": [
    "Neural network requires data normalization before training.\n",
    "\n",
    "Normalization for space units is integrated inside the `.preload()`\n",
    "\n",
    "NNDT v0.0.2 supports three method\n",
    " - `\"identity\"` is lack of normalization\n",
    " - `\"shift_and_scale\"` shifts the bounding box of object to center and divides physical units to `scale` parameter\n",
    " - `\"to_cube\"` push object to cube with edge size of `[-1,1]`"
   ]
  },
  {
   "cell_type": "code",
   "execution_count": 17,
   "id": "cdea8490",
   "metadata": {},
   "outputs": [
    {
     "data": {
      "application/vnd.jupyter.widget-view+json": {
       "model_id": "e207a6a816384815b93ce25eeaf5ec7a",
       "version_major": 2,
       "version_minor": 0
      },
      "text/plain": [
       "ViewInteractiveWidget(height=768, layout=Layout(height='auto', width='100%'), width=1024)"
      ]
     },
     "metadata": {},
     "output_type": "display_data"
    }
   ],
   "source": [
    "space = spc.load_from_path(\"../tests/acdc_for_test\")\n",
    "space.preload(\"shift_and_scale\", scale=50)\n",
    "space.plot()"
   ]
  },
  {
   "cell_type": "code",
   "execution_count": 36,
   "id": "a6a7f95e",
   "metadata": {},
   "outputs": [
    {
     "data": {
      "application/vnd.jupyter.widget-view+json": {
       "model_id": "572f539ce489443dbfbce2e162b1032d",
       "version_major": 2,
       "version_minor": 0
      },
      "text/plain": [
       "ViewInteractiveWidget(height=768, layout=Layout(height='auto', width='100%'), width=1024)"
      ]
     },
     "metadata": {},
     "output_type": "display_data"
    }
   ],
   "source": [
    "space = spc.load_from_path(\"../tests/acdc_for_test\")\n",
    "space.preload(\"to_cube\")\n",
    "space.plot()"
   ]
  },
  {
   "cell_type": "markdown",
   "id": "16d92b06",
   "metadata": {},
   "source": [
    "`.print()` supports several modes for pretty printing of 3D object tree.\n",
    " - `\"default\"` shows sources, transformations, method sets, and major functions of Object3D.\n",
    " - `\"sources\"` shows sources only\n",
    " - `\"full\"` show full tree and all methods"
   ]
  },
  {
   "cell_type": "code",
   "execution_count": 21,
   "id": "afc5a00b",
   "metadata": {
    "scrolled": false
   },
   "outputs": [
    {
     "name": "stdout",
     "output_type": "stream",
     "text": [
      "\u001b[31mS:space\u001b[37m 0.0.2a4\u001b[39m\n",
      "├── \u001b[34mO3D:patient009\u001b[37m ((-1.00, -1.00, -1.00), (1.00, 1.00, 1.00))\u001b[39m\n",
      "│   ├── \u001b[32mFS:colored_obj\u001b[37m mesh_obj^ ../tests/acdc_for_test/patient009/colored.obj\u001b[39m\n",
      "│   ├── \u001b[32mFS:sdf_npy\u001b[37m sdt^ ../tests/acdc_for_test/patient009/sdf.npy\u001b[39m\n",
      "│   └── \u001b[31mTR:transform\u001b[37m to_cube\u001b[39m\n",
      "├── \u001b[34mO3D:patient029\u001b[37m ((-1.00, -1.00, -1.00), (1.00, 1.00, 1.00))\u001b[39m\n",
      "│   ├── \u001b[32mFS:colored_obj\u001b[37m mesh_obj^ ../tests/acdc_for_test/patient029/colored.obj\u001b[39m\n",
      "│   ├── \u001b[32mFS:sdf_npy\u001b[37m sdt^ ../tests/acdc_for_test/patient029/sdf.npy\u001b[39m\n",
      "│   └── \u001b[31mTR:transform\u001b[37m to_cube\u001b[39m\n",
      "├── \u001b[34mO3D:patient049\u001b[37m ((-1.00, -1.00, -1.00), (1.00, 1.00, 1.00))\u001b[39m\n",
      "│   ├── \u001b[32mFS:colored_obj\u001b[37m mesh_obj^ ../tests/acdc_for_test/patient049/colored.obj\u001b[39m\n",
      "│   ├── \u001b[32mFS:sdf_npy\u001b[37m sdt^ ../tests/acdc_for_test/patient049/sdf.npy\u001b[39m\n",
      "│   └── \u001b[31mTR:transform\u001b[37m to_cube\u001b[39m\n",
      "├── \u001b[34mO3D:patient069\u001b[37m ((-1.00, -1.00, -1.00), (1.00, 1.00, 1.00))\u001b[39m\n",
      "│   ├── \u001b[32mFS:colored_obj\u001b[37m mesh_obj^ ../tests/acdc_for_test/patient069/colored.obj\u001b[39m\n",
      "│   ├── \u001b[32mFS:sdf_npy\u001b[37m sdt^ ../tests/acdc_for_test/patient069/sdf.npy\u001b[39m\n",
      "│   └── \u001b[31mTR:transform\u001b[37m to_cube\u001b[39m\n",
      "└── \u001b[34mO3D:patient089\u001b[37m ((-1.00, -1.00, -1.00), (1.00, 1.00, 1.00))\u001b[39m\n",
      "    ├── \u001b[32mFS:colored_obj\u001b[37m mesh_obj^ ../tests/acdc_for_test/patient089/colored.obj\u001b[39m\n",
      "    ├── \u001b[32mFS:sdf_npy\u001b[37m sdt^ ../tests/acdc_for_test/patient089/sdf.npy\u001b[39m\n",
      "    └── \u001b[31mTR:transform\u001b[37m to_cube\u001b[39m\n"
     ]
    }
   ],
   "source": [
    "print(space.print('source'))"
   ]
  },
  {
   "cell_type": "code",
   "execution_count": 37,
   "id": "a79d7038",
   "metadata": {
    "scrolled": false
   },
   "outputs": [
    {
     "name": "stdout",
     "output_type": "stream",
     "text": [
      "\u001b[31mS:space\u001b[37m 0.0.2a4\u001b[39m\n",
      "├── \u001b[34mO3D:patient009\u001b[37m ((-1.00, -1.00, -1.00), (1.00, 1.00, 1.00))\u001b[39m\n",
      "│   ├── \u001b[32mFS:colored_obj\u001b[37m mesh_obj^ ../tests/acdc_for_test/patient009/colored.obj\u001b[39m\n",
      "│   ├── \u001b[32mFS:sdf_npy\u001b[37m sdt^ ../tests/acdc_for_test/patient009/sdf.npy\u001b[39m\n",
      "│   ├── \u001b[31mTR:transform\u001b[37m to_cube\u001b[39m\n",
      "│   ├── \u001b[33mMS:mesh\u001b[39m\n",
      "│   ├── \u001b[33mMS:sampling\u001b[39m\n",
      "│   ├── \u001b[33mMS:sdt\u001b[39m\n",
      "│   ├── \u001b[39mplot(default, filepath=None)\u001b[39m\n",
      "│   ├── \u001b[39mprint(default|source|full)\u001b[39m\n",
      "│   ├── \u001b[39msampling_eachN_from_mesh(count=N, step=M, shift=K) -> (ns_ind[N], ns_xyz[N])\u001b[39m\n",
      "│   ├── \u001b[39msampling_grid(spacing=(D,H,W)) -> ns_xyz[D,H,W,3]\u001b[39m\n",
      "│   ├── \u001b[39msampling_grid_with_noise(key, spacing=(D,H,W), sigma) -> ns_xyz[N,3]\u001b[39m\n",
      "│   ├── \u001b[39msampling_uniform(key, N) -> ns_xyz[N,3]\u001b[39m\n",
      "│   ├── \u001b[39msave_mesh(filepath, {name, array})\u001b[39m\n",
      "│   ├── \u001b[39msurface_ind2xyz(ns_ind[...,1]) -> ns_xyz[...,3]\u001b[39m\n",
      "│   ├── \u001b[39msurface_xyz2ind(ns_xyz[...,3]) -> ns_ind[...,1]\u001b[39m\n",
      "│   ├── \u001b[39msurface_xyz2sdt(ns_xyz[...,3]) -> ns_sdt[...,1]\u001b[39m\n",
      "│   ├── \u001b[39mtransform_sdt_ns2ps(ns_sdt[...]) -> ps_sdt[...]\u001b[39m\n",
      "│   ├── \u001b[39mtransform_sdt_ps2ns(ps_sdt[...]) -> ns_sdt[...]\u001b[39m\n",
      "│   ├── \u001b[39mtransform_xyz_ns2ps(ns_xyz[...,3]) -> ps_xyz[...,3]\u001b[39m\n",
      "│   └── \u001b[39mtransform_xyz_ps2ns(ps_xyz[...,3]) -> ns_xyz[...,3]\u001b[39m\n",
      "├── \u001b[34mO3D:patient029\u001b[37m ((-1.00, -1.00, -1.00), (1.00, 1.00, 1.00))\u001b[39m\n",
      "│   ├── \u001b[32mFS:colored_obj\u001b[37m mesh_obj^ ../tests/acdc_for_test/patient029/colored.obj\u001b[39m\n",
      "│   ├── \u001b[32mFS:sdf_npy\u001b[37m sdt^ ../tests/acdc_for_test/patient029/sdf.npy\u001b[39m\n",
      "│   ├── \u001b[31mTR:transform\u001b[37m to_cube\u001b[39m\n",
      "│   ├── \u001b[33mMS:mesh\u001b[39m\n",
      "│   ├── \u001b[33mMS:sampling\u001b[39m\n",
      "│   ├── \u001b[33mMS:sdt\u001b[39m\n",
      "│   ├── \u001b[39mplot(default, filepath=None)\u001b[39m\n",
      "│   ├── \u001b[39mprint(default|source|full)\u001b[39m\n",
      "│   ├── \u001b[39msampling_eachN_from_mesh(count=N, step=M, shift=K) -> (ns_ind[N], ns_xyz[N])\u001b[39m\n",
      "│   ├── \u001b[39msampling_grid(spacing=(D,H,W)) -> ns_xyz[D,H,W,3]\u001b[39m\n",
      "│   ├── \u001b[39msampling_grid_with_noise(key, spacing=(D,H,W), sigma) -> ns_xyz[N,3]\u001b[39m\n",
      "│   ├── \u001b[39msampling_uniform(key, N) -> ns_xyz[N,3]\u001b[39m\n",
      "│   ├── \u001b[39msave_mesh(filepath, {name, array})\u001b[39m\n",
      "│   ├── \u001b[39msurface_ind2xyz(ns_ind[...,1]) -> ns_xyz[...,3]\u001b[39m\n",
      "│   ├── \u001b[39msurface_xyz2ind(ns_xyz[...,3]) -> ns_ind[...,1]\u001b[39m\n",
      "│   ├── \u001b[39msurface_xyz2sdt(ns_xyz[...,3]) -> ns_sdt[...,1]\u001b[39m\n",
      "│   ├── \u001b[39mtransform_sdt_ns2ps(ns_sdt[...]) -> ps_sdt[...]\u001b[39m\n",
      "│   ├── \u001b[39mtransform_sdt_ps2ns(ps_sdt[...]) -> ns_sdt[...]\u001b[39m\n",
      "│   ├── \u001b[39mtransform_xyz_ns2ps(ns_xyz[...,3]) -> ps_xyz[...,3]\u001b[39m\n",
      "│   └── \u001b[39mtransform_xyz_ps2ns(ps_xyz[...,3]) -> ns_xyz[...,3]\u001b[39m\n",
      "├── \u001b[34mO3D:patient049\u001b[37m ((-1.00, -1.00, -1.00), (1.00, 1.00, 1.00))\u001b[39m\n",
      "│   ├── \u001b[32mFS:colored_obj\u001b[37m mesh_obj^ ../tests/acdc_for_test/patient049/colored.obj\u001b[39m\n",
      "│   ├── \u001b[32mFS:sdf_npy\u001b[37m sdt^ ../tests/acdc_for_test/patient049/sdf.npy\u001b[39m\n",
      "│   ├── \u001b[31mTR:transform\u001b[37m to_cube\u001b[39m\n",
      "│   ├── \u001b[33mMS:mesh\u001b[39m\n",
      "│   ├── \u001b[33mMS:sampling\u001b[39m\n",
      "│   ├── \u001b[33mMS:sdt\u001b[39m\n",
      "│   ├── \u001b[39mplot(default, filepath=None)\u001b[39m\n",
      "│   ├── \u001b[39mprint(default|source|full)\u001b[39m\n",
      "│   ├── \u001b[39msampling_eachN_from_mesh(count=N, step=M, shift=K) -> (ns_ind[N], ns_xyz[N])\u001b[39m\n",
      "│   ├── \u001b[39msampling_grid(spacing=(D,H,W)) -> ns_xyz[D,H,W,3]\u001b[39m\n",
      "│   ├── \u001b[39msampling_grid_with_noise(key, spacing=(D,H,W), sigma) -> ns_xyz[N,3]\u001b[39m\n",
      "│   ├── \u001b[39msampling_uniform(key, N) -> ns_xyz[N,3]\u001b[39m\n",
      "│   ├── \u001b[39msave_mesh(filepath, {name, array})\u001b[39m\n",
      "│   ├── \u001b[39msurface_ind2xyz(ns_ind[...,1]) -> ns_xyz[...,3]\u001b[39m\n",
      "│   ├── \u001b[39msurface_xyz2ind(ns_xyz[...,3]) -> ns_ind[...,1]\u001b[39m\n",
      "│   ├── \u001b[39msurface_xyz2sdt(ns_xyz[...,3]) -> ns_sdt[...,1]\u001b[39m\n",
      "│   ├── \u001b[39mtransform_sdt_ns2ps(ns_sdt[...]) -> ps_sdt[...]\u001b[39m\n",
      "│   ├── \u001b[39mtransform_sdt_ps2ns(ps_sdt[...]) -> ns_sdt[...]\u001b[39m\n",
      "│   ├── \u001b[39mtransform_xyz_ns2ps(ns_xyz[...,3]) -> ps_xyz[...,3]\u001b[39m\n",
      "│   └── \u001b[39mtransform_xyz_ps2ns(ps_xyz[...,3]) -> ns_xyz[...,3]\u001b[39m\n",
      "├── \u001b[34mO3D:patient069\u001b[37m ((-1.00, -1.00, -1.00), (1.00, 1.00, 1.00))\u001b[39m\n",
      "│   ├── \u001b[32mFS:colored_obj\u001b[37m mesh_obj^ ../tests/acdc_for_test/patient069/colored.obj\u001b[39m\n",
      "│   ├── \u001b[32mFS:sdf_npy\u001b[37m sdt^ ../tests/acdc_for_test/patient069/sdf.npy\u001b[39m\n",
      "│   ├── \u001b[31mTR:transform\u001b[37m to_cube\u001b[39m\n",
      "│   ├── \u001b[33mMS:mesh\u001b[39m\n",
      "│   ├── \u001b[33mMS:sampling\u001b[39m\n",
      "│   ├── \u001b[33mMS:sdt\u001b[39m\n",
      "│   ├── \u001b[39mplot(default, filepath=None)\u001b[39m\n",
      "│   ├── \u001b[39mprint(default|source|full)\u001b[39m\n",
      "│   ├── \u001b[39msampling_eachN_from_mesh(count=N, step=M, shift=K) -> (ns_ind[N], ns_xyz[N])\u001b[39m\n",
      "│   ├── \u001b[39msampling_grid(spacing=(D,H,W)) -> ns_xyz[D,H,W,3]\u001b[39m\n",
      "│   ├── \u001b[39msampling_grid_with_noise(key, spacing=(D,H,W), sigma) -> ns_xyz[N,3]\u001b[39m\n",
      "│   ├── \u001b[39msampling_uniform(key, N) -> ns_xyz[N,3]\u001b[39m\n",
      "│   ├── \u001b[39msave_mesh(filepath, {name, array})\u001b[39m\n",
      "│   ├── \u001b[39msurface_ind2xyz(ns_ind[...,1]) -> ns_xyz[...,3]\u001b[39m\n",
      "│   ├── \u001b[39msurface_xyz2ind(ns_xyz[...,3]) -> ns_ind[...,1]\u001b[39m\n",
      "│   ├── \u001b[39msurface_xyz2sdt(ns_xyz[...,3]) -> ns_sdt[...,1]\u001b[39m\n",
      "│   ├── \u001b[39mtransform_sdt_ns2ps(ns_sdt[...]) -> ps_sdt[...]\u001b[39m\n",
      "│   ├── \u001b[39mtransform_sdt_ps2ns(ps_sdt[...]) -> ns_sdt[...]\u001b[39m\n",
      "│   ├── \u001b[39mtransform_xyz_ns2ps(ns_xyz[...,3]) -> ps_xyz[...,3]\u001b[39m\n",
      "│   └── \u001b[39mtransform_xyz_ps2ns(ps_xyz[...,3]) -> ns_xyz[...,3]\u001b[39m\n",
      "├── \u001b[34mO3D:patient089\u001b[37m ((-1.00, -1.00, -1.00), (1.00, 1.00, 1.00))\u001b[39m\n",
      "│   ├── \u001b[32mFS:colored_obj\u001b[37m mesh_obj^ ../tests/acdc_for_test/patient089/colored.obj\u001b[39m\n",
      "│   ├── \u001b[32mFS:sdf_npy\u001b[37m sdt^ ../tests/acdc_for_test/patient089/sdf.npy\u001b[39m\n",
      "│   ├── \u001b[31mTR:transform\u001b[37m to_cube\u001b[39m\n",
      "│   ├── \u001b[33mMS:mesh\u001b[39m\n",
      "│   ├── \u001b[33mMS:sampling\u001b[39m\n",
      "│   ├── \u001b[33mMS:sdt\u001b[39m\n",
      "│   ├── \u001b[39mplot(default, filepath=None)\u001b[39m\n",
      "│   ├── \u001b[39mprint(default|source|full)\u001b[39m\n",
      "│   ├── \u001b[39msampling_eachN_from_mesh(count=N, step=M, shift=K) -> (ns_ind[N], ns_xyz[N])\u001b[39m\n",
      "│   ├── \u001b[39msampling_grid(spacing=(D,H,W)) -> ns_xyz[D,H,W,3]\u001b[39m\n",
      "│   ├── \u001b[39msampling_grid_with_noise(key, spacing=(D,H,W), sigma) -> ns_xyz[N,3]\u001b[39m\n",
      "│   ├── \u001b[39msampling_uniform(key, N) -> ns_xyz[N,3]\u001b[39m\n",
      "│   ├── \u001b[39msave_mesh(filepath, {name, array})\u001b[39m\n",
      "│   ├── \u001b[39msurface_ind2xyz(ns_ind[...,1]) -> ns_xyz[...,3]\u001b[39m\n",
      "│   ├── \u001b[39msurface_xyz2ind(ns_xyz[...,3]) -> ns_ind[...,1]\u001b[39m\n",
      "│   ├── \u001b[39msurface_xyz2sdt(ns_xyz[...,3]) -> ns_sdt[...,1]\u001b[39m\n",
      "│   ├── \u001b[39mtransform_sdt_ns2ps(ns_sdt[...]) -> ps_sdt[...]\u001b[39m\n",
      "│   ├── \u001b[39mtransform_sdt_ps2ns(ps_sdt[...]) -> ns_sdt[...]\u001b[39m\n",
      "│   ├── \u001b[39mtransform_xyz_ns2ps(ns_xyz[...,3]) -> ps_xyz[...,3]\u001b[39m\n",
      "│   └── \u001b[39mtransform_xyz_ps2ns(ps_xyz[...,3]) -> ns_xyz[...,3]\u001b[39m\n",
      "├── \u001b[33mMS:sampling\u001b[39m\n",
      "├── \u001b[39minit()\u001b[39m\n",
      "├── \u001b[39mplot(default, filepath=None)\u001b[39m\n",
      "├── \u001b[39mpreload(identity|shift_and_scale|to_cube, scale, keep_in_memory=True)\u001b[39m\n",
      "├── \u001b[39mprint(default|source|full)\u001b[39m\n",
      "├── \u001b[39msampling_grid(spacing=(D,H,W)) -> ns_xyz[D,H,W,3]\u001b[39m\n",
      "├── \u001b[39msampling_grid_with_noise(key, spacing=(D,H,W), sigma) -> ns_xyz[N,3]\u001b[39m\n",
      "├── \u001b[39msampling_uniform(key, N) -> ns_xyz[N,3]\u001b[39m\n",
      "├── \u001b[39msave_space(filepath)\u001b[39m\n",
      "└── \u001b[39mto_json()\u001b[39m\n"
     ]
    }
   ],
   "source": [
    "print(space.print())"
   ]
  },
  {
   "cell_type": "code",
   "execution_count": null,
   "id": "ec2206a8",
   "metadata": {},
   "outputs": [],
   "source": [
    "print(space.print(\"full\"))"
   ]
  },
  {
   "cell_type": "markdown",
   "id": "4b8f7f81",
   "metadata": {},
   "source": [
    "All methods of the tree is available for the call"
   ]
  },
  {
   "cell_type": "code",
   "execution_count": 24,
   "id": "265355e1",
   "metadata": {},
   "outputs": [],
   "source": [
    "space = spc.load_from_path(\"../tests/acdc_for_test\")\n",
    "space.preload(\"shift_and_scale\")\n"
   ]
  },
  {
   "cell_type": "code",
   "execution_count": 25,
   "id": "c7553368",
   "metadata": {
    "collapsed": true
   },
   "outputs": [
    {
     "data": {
      "text/plain": [
       "DeviceArray([[[[-0.75      , -0.71      , -0.77      ],\n",
       "               [-0.75      , -0.71      , -0.5988889 ],\n",
       "               [-0.75      , -0.71      , -0.42777777],\n",
       "               ...,\n",
       "               [-0.75      , -0.71      ,  0.42777777],\n",
       "               [-0.75      , -0.71      ,  0.5988889 ],\n",
       "               [-0.75      , -0.71      ,  0.77      ]],\n",
       "\n",
       "              [[-0.75      , -0.5522222 , -0.77      ],\n",
       "               [-0.75      , -0.5522222 , -0.5988889 ],\n",
       "               [-0.75      , -0.5522222 , -0.42777777],\n",
       "               ...,\n",
       "               [-0.75      , -0.5522222 ,  0.42777777],\n",
       "               [-0.75      , -0.5522222 ,  0.5988889 ],\n",
       "               [-0.75      , -0.5522222 ,  0.77      ]],\n",
       "\n",
       "              [[-0.75      , -0.3944444 , -0.77      ],\n",
       "               [-0.75      , -0.3944444 , -0.5988889 ],\n",
       "               [-0.75      , -0.3944444 , -0.42777777],\n",
       "               ...,\n",
       "               [-0.75      , -0.3944444 ,  0.42777777],\n",
       "               [-0.75      , -0.3944444 ,  0.5988889 ],\n",
       "               [-0.75      , -0.3944444 ,  0.77      ]],\n",
       "\n",
       "              ...,\n",
       "\n",
       "              [[-0.75      ,  0.39444444, -0.77      ],\n",
       "               [-0.75      ,  0.39444444, -0.5988889 ],\n",
       "               [-0.75      ,  0.39444444, -0.42777777],\n",
       "               ...,\n",
       "               [-0.75      ,  0.39444444,  0.42777777],\n",
       "               [-0.75      ,  0.39444444,  0.5988889 ],\n",
       "               [-0.75      ,  0.39444444,  0.77      ]],\n",
       "\n",
       "              [[-0.75      ,  0.5522222 , -0.77      ],\n",
       "               [-0.75      ,  0.5522222 , -0.5988889 ],\n",
       "               [-0.75      ,  0.5522222 , -0.42777777],\n",
       "               ...,\n",
       "               [-0.75      ,  0.5522222 ,  0.42777777],\n",
       "               [-0.75      ,  0.5522222 ,  0.5988889 ],\n",
       "               [-0.75      ,  0.5522222 ,  0.77      ]],\n",
       "\n",
       "              [[-0.75      ,  0.71      , -0.77      ],\n",
       "               [-0.75      ,  0.71      , -0.5988889 ],\n",
       "               [-0.75      ,  0.71      , -0.42777777],\n",
       "               ...,\n",
       "               [-0.75      ,  0.71      ,  0.42777777],\n",
       "               [-0.75      ,  0.71      ,  0.5988889 ],\n",
       "               [-0.75      ,  0.71      ,  0.77      ]]],\n",
       "\n",
       "\n",
       "             [[[-0.5833334 , -0.71      , -0.77      ],\n",
       "               [-0.5833334 , -0.71      , -0.5988889 ],\n",
       "               [-0.5833334 , -0.71      , -0.42777777],\n",
       "               ...,\n",
       "               [-0.5833334 , -0.71      ,  0.42777777],\n",
       "               [-0.5833334 , -0.71      ,  0.5988889 ],\n",
       "               [-0.5833334 , -0.71      ,  0.77      ]],\n",
       "\n",
       "              [[-0.5833334 , -0.5522222 , -0.77      ],\n",
       "               [-0.5833334 , -0.5522222 , -0.5988889 ],\n",
       "               [-0.5833334 , -0.5522222 , -0.42777777],\n",
       "               ...,\n",
       "               [-0.5833334 , -0.5522222 ,  0.42777777],\n",
       "               [-0.5833334 , -0.5522222 ,  0.5988889 ],\n",
       "               [-0.5833334 , -0.5522222 ,  0.77      ]],\n",
       "\n",
       "              [[-0.5833334 , -0.3944444 , -0.77      ],\n",
       "               [-0.5833334 , -0.3944444 , -0.5988889 ],\n",
       "               [-0.5833334 , -0.3944444 , -0.42777777],\n",
       "               ...,\n",
       "               [-0.5833334 , -0.3944444 ,  0.42777777],\n",
       "               [-0.5833334 , -0.3944444 ,  0.5988889 ],\n",
       "               [-0.5833334 , -0.3944444 ,  0.77      ]],\n",
       "\n",
       "              ...,\n",
       "\n",
       "              [[-0.5833334 ,  0.39444444, -0.77      ],\n",
       "               [-0.5833334 ,  0.39444444, -0.5988889 ],\n",
       "               [-0.5833334 ,  0.39444444, -0.42777777],\n",
       "               ...,\n",
       "               [-0.5833334 ,  0.39444444,  0.42777777],\n",
       "               [-0.5833334 ,  0.39444444,  0.5988889 ],\n",
       "               [-0.5833334 ,  0.39444444,  0.77      ]],\n",
       "\n",
       "              [[-0.5833334 ,  0.5522222 , -0.77      ],\n",
       "               [-0.5833334 ,  0.5522222 , -0.5988889 ],\n",
       "               [-0.5833334 ,  0.5522222 , -0.42777777],\n",
       "               ...,\n",
       "               [-0.5833334 ,  0.5522222 ,  0.42777777],\n",
       "               [-0.5833334 ,  0.5522222 ,  0.5988889 ],\n",
       "               [-0.5833334 ,  0.5522222 ,  0.77      ]],\n",
       "\n",
       "              [[-0.5833334 ,  0.71      , -0.77      ],\n",
       "               [-0.5833334 ,  0.71      , -0.5988889 ],\n",
       "               [-0.5833334 ,  0.71      , -0.42777777],\n",
       "               ...,\n",
       "               [-0.5833334 ,  0.71      ,  0.42777777],\n",
       "               [-0.5833334 ,  0.71      ,  0.5988889 ],\n",
       "               [-0.5833334 ,  0.71      ,  0.77      ]]],\n",
       "\n",
       "\n",
       "             [[[-0.4166667 , -0.71      , -0.77      ],\n",
       "               [-0.4166667 , -0.71      , -0.5988889 ],\n",
       "               [-0.4166667 , -0.71      , -0.42777777],\n",
       "               ...,\n",
       "               [-0.4166667 , -0.71      ,  0.42777777],\n",
       "               [-0.4166667 , -0.71      ,  0.5988889 ],\n",
       "               [-0.4166667 , -0.71      ,  0.77      ]],\n",
       "\n",
       "              [[-0.4166667 , -0.5522222 , -0.77      ],\n",
       "               [-0.4166667 , -0.5522222 , -0.5988889 ],\n",
       "               [-0.4166667 , -0.5522222 , -0.42777777],\n",
       "               ...,\n",
       "               [-0.4166667 , -0.5522222 ,  0.42777777],\n",
       "               [-0.4166667 , -0.5522222 ,  0.5988889 ],\n",
       "               [-0.4166667 , -0.5522222 ,  0.77      ]],\n",
       "\n",
       "              [[-0.4166667 , -0.3944444 , -0.77      ],\n",
       "               [-0.4166667 , -0.3944444 , -0.5988889 ],\n",
       "               [-0.4166667 , -0.3944444 , -0.42777777],\n",
       "               ...,\n",
       "               [-0.4166667 , -0.3944444 ,  0.42777777],\n",
       "               [-0.4166667 , -0.3944444 ,  0.5988889 ],\n",
       "               [-0.4166667 , -0.3944444 ,  0.77      ]],\n",
       "\n",
       "              ...,\n",
       "\n",
       "              [[-0.4166667 ,  0.39444444, -0.77      ],\n",
       "               [-0.4166667 ,  0.39444444, -0.5988889 ],\n",
       "               [-0.4166667 ,  0.39444444, -0.42777777],\n",
       "               ...,\n",
       "               [-0.4166667 ,  0.39444444,  0.42777777],\n",
       "               [-0.4166667 ,  0.39444444,  0.5988889 ],\n",
       "               [-0.4166667 ,  0.39444444,  0.77      ]],\n",
       "\n",
       "              [[-0.4166667 ,  0.5522222 , -0.77      ],\n",
       "               [-0.4166667 ,  0.5522222 , -0.5988889 ],\n",
       "               [-0.4166667 ,  0.5522222 , -0.42777777],\n",
       "               ...,\n",
       "               [-0.4166667 ,  0.5522222 ,  0.42777777],\n",
       "               [-0.4166667 ,  0.5522222 ,  0.5988889 ],\n",
       "               [-0.4166667 ,  0.5522222 ,  0.77      ]],\n",
       "\n",
       "              [[-0.4166667 ,  0.71      , -0.77      ],\n",
       "               [-0.4166667 ,  0.71      , -0.5988889 ],\n",
       "               [-0.4166667 ,  0.71      , -0.42777777],\n",
       "               ...,\n",
       "               [-0.4166667 ,  0.71      ,  0.42777777],\n",
       "               [-0.4166667 ,  0.71      ,  0.5988889 ],\n",
       "               [-0.4166667 ,  0.71      ,  0.77      ]]],\n",
       "\n",
       "\n",
       "             ...,\n",
       "\n",
       "\n",
       "             [[[ 0.41666672, -0.71      , -0.77      ],\n",
       "               [ 0.41666672, -0.71      , -0.5988889 ],\n",
       "               [ 0.41666672, -0.71      , -0.42777777],\n",
       "               ...,\n",
       "               [ 0.41666672, -0.71      ,  0.42777777],\n",
       "               [ 0.41666672, -0.71      ,  0.5988889 ],\n",
       "               [ 0.41666672, -0.71      ,  0.77      ]],\n",
       "\n",
       "              [[ 0.41666672, -0.5522222 , -0.77      ],\n",
       "               [ 0.41666672, -0.5522222 , -0.5988889 ],\n",
       "               [ 0.41666672, -0.5522222 , -0.42777777],\n",
       "               ...,\n",
       "               [ 0.41666672, -0.5522222 ,  0.42777777],\n",
       "               [ 0.41666672, -0.5522222 ,  0.5988889 ],\n",
       "               [ 0.41666672, -0.5522222 ,  0.77      ]],\n",
       "\n",
       "              [[ 0.41666672, -0.3944444 , -0.77      ],\n",
       "               [ 0.41666672, -0.3944444 , -0.5988889 ],\n",
       "               [ 0.41666672, -0.3944444 , -0.42777777],\n",
       "               ...,\n",
       "               [ 0.41666672, -0.3944444 ,  0.42777777],\n",
       "               [ 0.41666672, -0.3944444 ,  0.5988889 ],\n",
       "               [ 0.41666672, -0.3944444 ,  0.77      ]],\n",
       "\n",
       "              ...,\n",
       "\n",
       "              [[ 0.41666672,  0.39444444, -0.77      ],\n",
       "               [ 0.41666672,  0.39444444, -0.5988889 ],\n",
       "               [ 0.41666672,  0.39444444, -0.42777777],\n",
       "               ...,\n",
       "               [ 0.41666672,  0.39444444,  0.42777777],\n",
       "               [ 0.41666672,  0.39444444,  0.5988889 ],\n",
       "               [ 0.41666672,  0.39444444,  0.77      ]],\n",
       "\n",
       "              [[ 0.41666672,  0.5522222 , -0.77      ],\n",
       "               [ 0.41666672,  0.5522222 , -0.5988889 ],\n",
       "               [ 0.41666672,  0.5522222 , -0.42777777],\n",
       "               ...,\n",
       "               [ 0.41666672,  0.5522222 ,  0.42777777],\n",
       "               [ 0.41666672,  0.5522222 ,  0.5988889 ],\n",
       "               [ 0.41666672,  0.5522222 ,  0.77      ]],\n",
       "\n",
       "              [[ 0.41666672,  0.71      , -0.77      ],\n",
       "               [ 0.41666672,  0.71      , -0.5988889 ],\n",
       "               [ 0.41666672,  0.71      , -0.42777777],\n",
       "               ...,\n",
       "               [ 0.41666672,  0.71      ,  0.42777777],\n",
       "               [ 0.41666672,  0.71      ,  0.5988889 ],\n",
       "               [ 0.41666672,  0.71      ,  0.77      ]]],\n",
       "\n",
       "\n",
       "             [[[ 0.5833334 , -0.71      , -0.77      ],\n",
       "               [ 0.5833334 , -0.71      , -0.5988889 ],\n",
       "               [ 0.5833334 , -0.71      , -0.42777777],\n",
       "               ...,\n",
       "               [ 0.5833334 , -0.71      ,  0.42777777],\n",
       "               [ 0.5833334 , -0.71      ,  0.5988889 ],\n",
       "               [ 0.5833334 , -0.71      ,  0.77      ]],\n",
       "\n",
       "              [[ 0.5833334 , -0.5522222 , -0.77      ],\n",
       "               [ 0.5833334 , -0.5522222 , -0.5988889 ],\n",
       "               [ 0.5833334 , -0.5522222 , -0.42777777],\n",
       "               ...,\n",
       "               [ 0.5833334 , -0.5522222 ,  0.42777777],\n",
       "               [ 0.5833334 , -0.5522222 ,  0.5988889 ],\n",
       "               [ 0.5833334 , -0.5522222 ,  0.77      ]],\n",
       "\n",
       "              [[ 0.5833334 , -0.3944444 , -0.77      ],\n",
       "               [ 0.5833334 , -0.3944444 , -0.5988889 ],\n",
       "               [ 0.5833334 , -0.3944444 , -0.42777777],\n",
       "               ...,\n",
       "               [ 0.5833334 , -0.3944444 ,  0.42777777],\n",
       "               [ 0.5833334 , -0.3944444 ,  0.5988889 ],\n",
       "               [ 0.5833334 , -0.3944444 ,  0.77      ]],\n",
       "\n",
       "              ...,\n",
       "\n",
       "              [[ 0.5833334 ,  0.39444444, -0.77      ],\n",
       "               [ 0.5833334 ,  0.39444444, -0.5988889 ],\n",
       "               [ 0.5833334 ,  0.39444444, -0.42777777],\n",
       "               ...,\n",
       "               [ 0.5833334 ,  0.39444444,  0.42777777],\n",
       "               [ 0.5833334 ,  0.39444444,  0.5988889 ],\n",
       "               [ 0.5833334 ,  0.39444444,  0.77      ]],\n",
       "\n",
       "              [[ 0.5833334 ,  0.5522222 , -0.77      ],\n",
       "               [ 0.5833334 ,  0.5522222 , -0.5988889 ],\n",
       "               [ 0.5833334 ,  0.5522222 , -0.42777777],\n",
       "               ...,\n",
       "               [ 0.5833334 ,  0.5522222 ,  0.42777777],\n",
       "               [ 0.5833334 ,  0.5522222 ,  0.5988889 ],\n",
       "               [ 0.5833334 ,  0.5522222 ,  0.77      ]],\n",
       "\n",
       "              [[ 0.5833334 ,  0.71      , -0.77      ],\n",
       "               [ 0.5833334 ,  0.71      , -0.5988889 ],\n",
       "               [ 0.5833334 ,  0.71      , -0.42777777],\n",
       "               ...,\n",
       "               [ 0.5833334 ,  0.71      ,  0.42777777],\n",
       "               [ 0.5833334 ,  0.71      ,  0.5988889 ],\n",
       "               [ 0.5833334 ,  0.71      ,  0.77      ]]],\n",
       "\n",
       "\n",
       "             [[[ 0.75      , -0.71      , -0.77      ],\n",
       "               [ 0.75      , -0.71      , -0.5988889 ],\n",
       "               [ 0.75      , -0.71      , -0.42777777],\n",
       "               ...,\n",
       "               [ 0.75      , -0.71      ,  0.42777777],\n",
       "               [ 0.75      , -0.71      ,  0.5988889 ],\n",
       "               [ 0.75      , -0.71      ,  0.77      ]],\n",
       "\n",
       "              [[ 0.75      , -0.5522222 , -0.77      ],\n",
       "               [ 0.75      , -0.5522222 , -0.5988889 ],\n",
       "               [ 0.75      , -0.5522222 , -0.42777777],\n",
       "               ...,\n",
       "               [ 0.75      , -0.5522222 ,  0.42777777],\n",
       "               [ 0.75      , -0.5522222 ,  0.5988889 ],\n",
       "               [ 0.75      , -0.5522222 ,  0.77      ]],\n",
       "\n",
       "              [[ 0.75      , -0.3944444 , -0.77      ],\n",
       "               [ 0.75      , -0.3944444 , -0.5988889 ],\n",
       "               [ 0.75      , -0.3944444 , -0.42777777],\n",
       "               ...,\n",
       "               [ 0.75      , -0.3944444 ,  0.42777777],\n",
       "               [ 0.75      , -0.3944444 ,  0.5988889 ],\n",
       "               [ 0.75      , -0.3944444 ,  0.77      ]],\n",
       "\n",
       "              ...,\n",
       "\n",
       "              [[ 0.75      ,  0.39444444, -0.77      ],\n",
       "               [ 0.75      ,  0.39444444, -0.5988889 ],\n",
       "               [ 0.75      ,  0.39444444, -0.42777777],\n",
       "               ...,\n",
       "               [ 0.75      ,  0.39444444,  0.42777777],\n",
       "               [ 0.75      ,  0.39444444,  0.5988889 ],\n",
       "               [ 0.75      ,  0.39444444,  0.77      ]],\n",
       "\n",
       "              [[ 0.75      ,  0.5522222 , -0.77      ],\n",
       "               [ 0.75      ,  0.5522222 , -0.5988889 ],\n",
       "               [ 0.75      ,  0.5522222 , -0.42777777],\n",
       "               ...,\n",
       "               [ 0.75      ,  0.5522222 ,  0.42777777],\n",
       "               [ 0.75      ,  0.5522222 ,  0.5988889 ],\n",
       "               [ 0.75      ,  0.5522222 ,  0.77      ]],\n",
       "\n",
       "              [[ 0.75      ,  0.71      , -0.77      ],\n",
       "               [ 0.75      ,  0.71      , -0.5988889 ],\n",
       "               [ 0.75      ,  0.71      , -0.42777777],\n",
       "               ...,\n",
       "               [ 0.75      ,  0.71      ,  0.42777777],\n",
       "               [ 0.75      ,  0.71      ,  0.5988889 ],\n",
       "               [ 0.75      ,  0.71      ,  0.77      ]]]], dtype=float32)"
      ]
     },
     "execution_count": 25,
     "metadata": {},
     "output_type": "execute_result"
    }
   ],
   "source": [
    "\n",
    "uniform_grid_over_bbox = space.patient009.sampling_grid((10,10,10))\n",
    "uniform_grid_over_bbox"
   ]
  },
  {
   "cell_type": "code",
   "execution_count": 26,
   "id": "26f7ac6e",
   "metadata": {},
   "outputs": [
    {
     "data": {
      "text/plain": [
       "(DeviceArray(-0.77, dtype=float32), DeviceArray(0.77, dtype=float32))"
      ]
     },
     "execution_count": 26,
     "metadata": {},
     "output_type": "execute_result"
    }
   ],
   "source": [
    "uniform_grid_over_bbox.min(), uniform_grid_over_bbox.max()"
   ]
  },
  {
   "cell_type": "code",
   "execution_count": 27,
   "id": "c4386a8a",
   "metadata": {},
   "outputs": [
    {
     "data": {
      "text/plain": [
       "((-0.75, -0.7099999785423279, -0.7699999809265137),\n",
       " (0.75, 0.7099999785423279, 0.7699999809265137))"
      ]
     },
     "execution_count": 27,
     "metadata": {},
     "output_type": "execute_result"
    }
   ],
   "source": [
    "space.patient009.bbox"
   ]
  },
  {
   "cell_type": "code",
   "execution_count": 32,
   "id": "5df1c156",
   "metadata": {},
   "outputs": [],
   "source": [
    "space = spc.load_from_path(\"../tests/acdc_for_test\")\n",
    "space.init()"
   ]
  },
  {
   "cell_type": "code",
   "execution_count": 34,
   "id": "ab2141a2",
   "metadata": {},
   "outputs": [
    {
     "data": {
      "text/plain": [
       "'\\x1b[31mS:space\\x1b[37m 0.0.2a4\\x1b[39m\\n├── \\x1b[34mO3D:patient009\\x1b[37m ((0.00, 0.00, 0.00), (0.00, 0.00, 0.00))\\x1b[39m\\n│   ├── \\x1b[32mFS:colored_obj\\x1b[37m mesh_obj ../tests/acdc_for_test/patient009/colored.obj\\x1b[39m\\n│   ├── \\x1b[32mFS:sdf_npy\\x1b[37m sdt ../tests/acdc_for_test/patient009/sdf.npy\\x1b[39m\\n│   ├── \\x1b[39mplot(default, filepath=None)\\x1b[39m\\n│   └── \\x1b[39mprint(default|source|full)\\x1b[39m\\n├── \\x1b[34mO3D:patient029\\x1b[37m ((0.00, 0.00, 0.00), (0.00, 0.00, 0.00))\\x1b[39m\\n│   ├── \\x1b[32mFS:colored_obj\\x1b[37m mesh_obj ../tests/acdc_for_test/patient029/colored.obj\\x1b[39m\\n│   ├── \\x1b[32mFS:sdf_npy\\x1b[37m sdt ../tests/acdc_for_test/patient029/sdf.npy\\x1b[39m\\n│   ├── \\x1b[39mplot(default, filepath=None)\\x1b[39m\\n│   └── \\x1b[39mprint(default|source|full)\\x1b[39m\\n├── \\x1b[34mO3D:patient049\\x1b[37m ((0.00, 0.00, 0.00), (0.00, 0.00, 0.00))\\x1b[39m\\n│   ├── \\x1b[32mFS:colored_obj\\x1b[37m mesh_obj ../tests/acdc_for_test/patient049/colored.obj\\x1b[39m\\n│   ├── \\x1b[32mFS:sdf_npy\\x1b[37m sdt ../tests/acdc_for_test/patient049/sdf.npy\\x1b[39m\\n│   ├── \\x1b[39mplot(default, filepath=None)\\x1b[39m\\n│   └── \\x1b[39mprint(default|source|full)\\x1b[39m\\n├── \\x1b[34mO3D:patient069\\x1b[37m ((0.00, 0.00, 0.00), (0.00, 0.00, 0.00))\\x1b[39m\\n│   ├── \\x1b[32mFS:colored_obj\\x1b[37m mesh_obj ../tests/acdc_for_test/patient069/colored.obj\\x1b[39m\\n│   ├── \\x1b[32mFS:sdf_npy\\x1b[37m sdt ../tests/acdc_for_test/patient069/sdf.npy\\x1b[39m\\n│   ├── \\x1b[39mplot(default, filepath=None)\\x1b[39m\\n│   └── \\x1b[39mprint(default|source|full)\\x1b[39m\\n├── \\x1b[34mO3D:patient089\\x1b[37m ((0.00, 0.00, 0.00), (0.00, 0.00, 0.00))\\x1b[39m\\n│   ├── \\x1b[32mFS:colored_obj\\x1b[37m mesh_obj ../tests/acdc_for_test/patient089/colored.obj\\x1b[39m\\n│   ├── \\x1b[32mFS:sdf_npy\\x1b[37m sdt ../tests/acdc_for_test/patient089/sdf.npy\\x1b[39m\\n│   ├── \\x1b[39mplot(default, filepath=None)\\x1b[39m\\n│   └── \\x1b[39mprint(default|source|full)\\x1b[39m\\n├── \\x1b[39minit()\\x1b[39m\\n├── \\x1b[39mplot(default, filepath=None)\\x1b[39m\\n├── \\x1b[39mpreload(identity|shift_and_scale|to_cube, scale, keep_in_memory=True)\\x1b[39m\\n├── \\x1b[39mprint(default|source|full)\\x1b[39m\\n├── \\x1b[39msave_space(filepath)\\x1b[39m\\n└── \\x1b[39mto_json()\\x1b[39m'"
      ]
     },
     "execution_count": 34,
     "metadata": {},
     "output_type": "execute_result"
    }
   ],
   "source": [
    "space.print()"
   ]
  },
  {
   "cell_type": "code",
   "execution_count": null,
   "id": "7babdc40",
   "metadata": {},
   "outputs": [],
   "source": []
  }
 ],
 "metadata": {
  "kernelspec": {
   "display_name": "Python 3 (ipykernel)",
   "language": "python",
   "name": "python3"
  },
  "language_info": {
   "codemirror_mode": {
    "name": "ipython",
    "version": 3
   },
   "file_extension": ".py",
   "mimetype": "text/x-python",
   "name": "python",
   "nbconvert_exporter": "python",
   "pygments_lexer": "ipython3",
   "version": "3.10.4"
  }
 },
 "nbformat": 4,
 "nbformat_minor": 5
}
