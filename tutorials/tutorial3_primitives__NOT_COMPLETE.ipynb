{
 "cells": [
  {
   "cell_type": "code",
   "execution_count": 4,
   "id": "2a99b0fd",
   "metadata": {
    "collapsed": true
   },
   "outputs": [
    {
     "name": "stdout",
     "output_type": "stream",
     "text": [
      "Found existing installation: NNDT 0.0.3rc3\n",
      "Uninstalling NNDT-0.0.3rc3:\n",
      "  Successfully uninstalled NNDT-0.0.3rc3\n",
      "Note: you may need to restart the kernel to use updated packages.\n",
      "Collecting git+https://github.com/nndt-team/nndt.git@feature-list-4\n",
      "  Cloning https://github.com/nndt-team/nndt.git (to revision feature-list-4) to /tmp/pip-req-build-jsawrrwg\n",
      "  Running command git clone -q https://github.com/nndt-team/nndt.git /tmp/pip-req-build-jsawrrwg\n",
      "  Running command git checkout -b feature-list-4 --track origin/feature-list-4\n",
      "  Switched to a new branch 'feature-list-4'\n",
      "  Branch 'feature-list-4' set up to track remote branch 'feature-list-4' from 'origin'.\n",
      "  Resolved https://github.com/nndt-team/nndt.git to commit f77903cb104a5b98ecbbfbd1d95111b91070c4e2\n",
      "Requirement already satisfied: anytree>=2.8.0 in /home/kostanew/anaconda3/lib/python3.9/site-packages (from NNDT==0.0.3rc4) (2.8.0)\n",
      "Requirement already satisfied: colorama>=0.4.5 in /home/kostanew/anaconda3/lib/python3.9/site-packages (from NNDT==0.0.3rc4) (0.4.5)\n",
      "Requirement already satisfied: dm-haiku>=0.0.7 in /home/kostanew/anaconda3/lib/python3.9/site-packages (from NNDT==0.0.3rc4) (0.0.8)\n",
      "Requirement already satisfied: jax>=0.3.5 in /home/kostanew/anaconda3/lib/python3.9/site-packages (from NNDT==0.0.3rc4) (0.3.17)\n",
      "Requirement already satisfied: jaxlib>=0.3.5 in /home/kostanew/anaconda3/lib/python3.9/site-packages (from NNDT==0.0.3rc4) (0.3.15)\n",
      "Requirement already satisfied: optax>=0.1.3 in /home/kostanew/anaconda3/lib/python3.9/site-packages (from NNDT==0.0.3rc4) (0.1.3)\n",
      "Requirement already satisfied: matplotlib>=3.2.2 in /home/kostanew/anaconda3/lib/python3.9/site-packages (from NNDT==0.0.3rc4) (3.5.1)\n",
      "Requirement already satisfied: numpy>=1.20 in /home/kostanew/anaconda3/lib/python3.9/site-packages (from NNDT==0.0.3rc4) (1.22.4)\n",
      "Requirement already satisfied: scikit-image>=0.13 in /home/kostanew/anaconda3/lib/python3.9/site-packages (from NNDT==0.0.3rc4) (0.19.2)\n",
      "Requirement already satisfied: vtk>=8.2 in /home/kostanew/anaconda3/lib/python3.9/site-packages (from NNDT==0.0.3rc4) (9.1.0)\n",
      "Requirement already satisfied: tqdm>=4.0.0 in /home/kostanew/anaconda3/lib/python3.9/site-packages (from NNDT==0.0.3rc4) (4.64.0)\n",
      "Requirement already satisfied: pyvista>=0.36.1 in /home/kostanew/anaconda3/lib/python3.9/site-packages (from NNDT==0.0.3rc4) (0.37.0)\n",
      "Requirement already satisfied: pykdtree>=1.3.5 in /home/kostanew/anaconda3/lib/python3.9/site-packages (from NNDT==0.0.3rc4) (1.3.6)\n",
      "Requirement already satisfied: requests>=2.28.1 in /home/kostanew/anaconda3/lib/python3.9/site-packages (from NNDT==0.0.3rc4) (2.28.1)\n",
      "Requirement already satisfied: gdown>=4.5.3 in /home/kostanew/anaconda3/lib/python3.9/site-packages (from NNDT==0.0.3rc4) (4.5.3)\n",
      "Requirement already satisfied: py7zr>=0.6 in /home/kostanew/anaconda3/lib/python3.9/site-packages (from NNDT==0.0.3rc4) (0.20.2)\n",
      "Requirement already satisfied: six>=1.9.0 in /home/kostanew/anaconda3/lib/python3.9/site-packages (from anytree>=2.8.0->NNDT==0.0.3rc4) (1.16.0)\n",
      "Requirement already satisfied: tabulate>=0.8.9 in /home/kostanew/anaconda3/lib/python3.9/site-packages (from dm-haiku>=0.0.7->NNDT==0.0.3rc4) (0.8.9)\n",
      "Requirement already satisfied: jmp>=0.0.2 in /home/kostanew/anaconda3/lib/python3.9/site-packages (from dm-haiku>=0.0.7->NNDT==0.0.3rc4) (0.0.2)\n",
      "Requirement already satisfied: absl-py>=0.7.1 in /home/kostanew/anaconda3/lib/python3.9/site-packages (from dm-haiku>=0.0.7->NNDT==0.0.3rc4) (1.2.0)\n",
      "Requirement already satisfied: filelock in /home/kostanew/anaconda3/lib/python3.9/site-packages (from gdown>=4.5.3->NNDT==0.0.3rc4) (3.6.0)\n",
      "Requirement already satisfied: beautifulsoup4 in /home/kostanew/anaconda3/lib/python3.9/site-packages (from gdown>=4.5.3->NNDT==0.0.3rc4) (4.11.1)\n",
      "Requirement already satisfied: scipy>=1.5 in /home/kostanew/anaconda3/lib/python3.9/site-packages (from jax>=0.3.5->NNDT==0.0.3rc4) (1.7.3)\n",
      "Requirement already satisfied: etils[epath] in /home/kostanew/anaconda3/lib/python3.9/site-packages (from jax>=0.3.5->NNDT==0.0.3rc4) (0.8.0)\n",
      "Requirement already satisfied: opt-einsum in /home/kostanew/anaconda3/lib/python3.9/site-packages (from jax>=0.3.5->NNDT==0.0.3rc4) (3.3.0)\n",
      "Requirement already satisfied: typing-extensions in /home/kostanew/anaconda3/lib/python3.9/site-packages (from jax>=0.3.5->NNDT==0.0.3rc4) (4.1.1)\n",
      "Requirement already satisfied: fonttools>=4.22.0 in /home/kostanew/anaconda3/lib/python3.9/site-packages (from matplotlib>=3.2.2->NNDT==0.0.3rc4) (4.25.0)\n",
      "Requirement already satisfied: pyparsing>=2.2.1 in /home/kostanew/anaconda3/lib/python3.9/site-packages (from matplotlib>=3.2.2->NNDT==0.0.3rc4) (3.0.4)\n",
      "Requirement already satisfied: kiwisolver>=1.0.1 in /home/kostanew/anaconda3/lib/python3.9/site-packages (from matplotlib>=3.2.2->NNDT==0.0.3rc4) (1.3.2)\n",
      "Requirement already satisfied: pillow>=6.2.0 in /home/kostanew/anaconda3/lib/python3.9/site-packages (from matplotlib>=3.2.2->NNDT==0.0.3rc4) (9.0.1)\n",
      "Requirement already satisfied: cycler>=0.10 in /home/kostanew/anaconda3/lib/python3.9/site-packages (from matplotlib>=3.2.2->NNDT==0.0.3rc4) (0.11.0)\n",
      "Requirement already satisfied: packaging>=20.0 in /home/kostanew/anaconda3/lib/python3.9/site-packages (from matplotlib>=3.2.2->NNDT==0.0.3rc4) (21.3)\n",
      "Requirement already satisfied: python-dateutil>=2.7 in /home/kostanew/anaconda3/lib/python3.9/site-packages (from matplotlib>=3.2.2->NNDT==0.0.3rc4) (2.8.2)\n",
      "Requirement already satisfied: chex>=0.0.4 in /home/kostanew/anaconda3/lib/python3.9/site-packages (from optax>=0.1.3->NNDT==0.0.3rc4) (0.1.5)\n",
      "Requirement already satisfied: dm-tree>=0.1.5 in /home/kostanew/anaconda3/lib/python3.9/site-packages (from chex>=0.0.4->optax>=0.1.3->NNDT==0.0.3rc4) (0.1.7)\n",
      "Requirement already satisfied: toolz>=0.9.0 in /home/kostanew/anaconda3/lib/python3.9/site-packages (from chex>=0.0.4->optax>=0.1.3->NNDT==0.0.3rc4) (0.11.2)\n",
      "Requirement already satisfied: multivolumefile>=0.2.3 in /home/kostanew/anaconda3/lib/python3.9/site-packages (from py7zr>=0.6->NNDT==0.0.3rc4) (0.2.3)\n",
      "Requirement already satisfied: brotli>=1.0.9 in /home/kostanew/anaconda3/lib/python3.9/site-packages (from py7zr>=0.6->NNDT==0.0.3rc4) (1.0.9)\n",
      "Requirement already satisfied: psutil in /home/kostanew/anaconda3/lib/python3.9/site-packages (from py7zr>=0.6->NNDT==0.0.3rc4) (5.8.0)\n",
      "Requirement already satisfied: pybcj>=0.6.0 in /home/kostanew/anaconda3/lib/python3.9/site-packages (from py7zr>=0.6->NNDT==0.0.3rc4) (1.0.1)\n",
      "Requirement already satisfied: inflate64>=0.3.1 in /home/kostanew/anaconda3/lib/python3.9/site-packages (from py7zr>=0.6->NNDT==0.0.3rc4) (0.3.1)\n",
      "Requirement already satisfied: pyppmd<1.1.0,>=0.18.1 in /home/kostanew/anaconda3/lib/python3.9/site-packages (from py7zr>=0.6->NNDT==0.0.3rc4) (1.0.0)\n",
      "Requirement already satisfied: texttable in /home/kostanew/anaconda3/lib/python3.9/site-packages (from py7zr>=0.6->NNDT==0.0.3rc4) (1.6.4)\n",
      "Requirement already satisfied: pyzstd>=0.14.4 in /home/kostanew/anaconda3/lib/python3.9/site-packages (from py7zr>=0.6->NNDT==0.0.3rc4) (0.15.3)\n",
      "Requirement already satisfied: pycryptodomex>=3.6.6 in /home/kostanew/anaconda3/lib/python3.9/site-packages (from py7zr>=0.6->NNDT==0.0.3rc4) (3.15.0)\n",
      "Requirement already satisfied: imageio in /home/kostanew/anaconda3/lib/python3.9/site-packages (from pyvista>=0.36.1->NNDT==0.0.3rc4) (2.9.0)\n",
      "Requirement already satisfied: pooch in /home/kostanew/anaconda3/lib/python3.9/site-packages (from pyvista>=0.36.1->NNDT==0.0.3rc4) (1.6.0)\n",
      "Requirement already satisfied: scooby>=0.5.1 in /home/kostanew/anaconda3/lib/python3.9/site-packages (from pyvista>=0.36.1->NNDT==0.0.3rc4) (0.7.0)\n",
      "Requirement already satisfied: idna<4,>=2.5 in /home/kostanew/anaconda3/lib/python3.9/site-packages (from requests>=2.28.1->NNDT==0.0.3rc4) (3.3)\n",
      "Requirement already satisfied: charset-normalizer<3,>=2 in /home/kostanew/anaconda3/lib/python3.9/site-packages (from requests>=2.28.1->NNDT==0.0.3rc4) (2.0.4)\n",
      "Requirement already satisfied: urllib3<1.27,>=1.21.1 in /home/kostanew/anaconda3/lib/python3.9/site-packages (from requests>=2.28.1->NNDT==0.0.3rc4) (1.26.9)\n",
      "Requirement already satisfied: certifi>=2017.4.17 in /home/kostanew/anaconda3/lib/python3.9/site-packages (from requests>=2.28.1->NNDT==0.0.3rc4) (2021.10.8)\n"
     ]
    },
    {
     "name": "stdout",
     "output_type": "stream",
     "text": [
      "Requirement already satisfied: networkx>=2.2 in /home/kostanew/anaconda3/lib/python3.9/site-packages (from scikit-image>=0.13->NNDT==0.0.3rc4) (2.7.1)\n",
      "Requirement already satisfied: tifffile>=2019.7.26 in /home/kostanew/anaconda3/lib/python3.9/site-packages (from scikit-image>=0.13->NNDT==0.0.3rc4) (2021.7.2)\n",
      "Requirement already satisfied: PyWavelets>=1.1.1 in /home/kostanew/anaconda3/lib/python3.9/site-packages (from scikit-image>=0.13->NNDT==0.0.3rc4) (1.3.0)\n",
      "Requirement already satisfied: wslink>=1.0.4 in /home/kostanew/anaconda3/lib/python3.9/site-packages (from vtk>=8.2->NNDT==0.0.3rc4) (1.8.2)\n",
      "Requirement already satisfied: aiohttp<4 in /home/kostanew/anaconda3/lib/python3.9/site-packages (from wslink>=1.0.4->vtk>=8.2->NNDT==0.0.3rc4) (3.8.1)\n",
      "Requirement already satisfied: yarl<2.0,>=1.0 in /home/kostanew/anaconda3/lib/python3.9/site-packages (from aiohttp<4->wslink>=1.0.4->vtk>=8.2->NNDT==0.0.3rc4) (1.6.3)\n",
      "Requirement already satisfied: aiosignal>=1.1.2 in /home/kostanew/anaconda3/lib/python3.9/site-packages (from aiohttp<4->wslink>=1.0.4->vtk>=8.2->NNDT==0.0.3rc4) (1.2.0)\n",
      "Requirement already satisfied: frozenlist>=1.1.1 in /home/kostanew/anaconda3/lib/python3.9/site-packages (from aiohttp<4->wslink>=1.0.4->vtk>=8.2->NNDT==0.0.3rc4) (1.2.0)\n",
      "Requirement already satisfied: attrs>=17.3.0 in /home/kostanew/anaconda3/lib/python3.9/site-packages (from aiohttp<4->wslink>=1.0.4->vtk>=8.2->NNDT==0.0.3rc4) (21.4.0)\n",
      "Requirement already satisfied: async-timeout<5.0,>=4.0.0a3 in /home/kostanew/anaconda3/lib/python3.9/site-packages (from aiohttp<4->wslink>=1.0.4->vtk>=8.2->NNDT==0.0.3rc4) (4.0.1)\n",
      "Requirement already satisfied: multidict<7.0,>=4.5 in /home/kostanew/anaconda3/lib/python3.9/site-packages (from aiohttp<4->wslink>=1.0.4->vtk>=8.2->NNDT==0.0.3rc4) (5.2.0)\n",
      "Requirement already satisfied: soupsieve>1.2 in /home/kostanew/anaconda3/lib/python3.9/site-packages (from beautifulsoup4->gdown>=4.5.3->NNDT==0.0.3rc4) (2.3.1)\n",
      "Requirement already satisfied: zipp in /home/kostanew/anaconda3/lib/python3.9/site-packages (from etils[epath]->jax>=0.3.5->NNDT==0.0.3rc4) (3.7.0)\n",
      "Requirement already satisfied: importlib_resources in /home/kostanew/anaconda3/lib/python3.9/site-packages (from etils[epath]->jax>=0.3.5->NNDT==0.0.3rc4) (5.9.0)\n",
      "Requirement already satisfied: appdirs>=1.3.0 in /home/kostanew/anaconda3/lib/python3.9/site-packages (from pooch->pyvista>=0.36.1->NNDT==0.0.3rc4) (1.4.4)\n",
      "Requirement already satisfied: PySocks!=1.5.7,>=1.5.6 in /home/kostanew/anaconda3/lib/python3.9/site-packages (from requests>=2.28.1->NNDT==0.0.3rc4) (1.7.1)\n",
      "Building wheels for collected packages: NNDT\n",
      "  Building wheel for NNDT (setup.py) ... \u001b[?25ldone\n",
      "\u001b[?25h  Created wheel for NNDT: filename=NNDT-0.0.3rc4-py3-none-any.whl size=52398 sha256=7a163460931f91fb34544e970fe4742abb9483db1a714ab643ae3fcae3e57e68\n",
      "  Stored in directory: /tmp/pip-ephem-wheel-cache-t23kf_ow/wheels/6e/69/e2/5606bbcebcdb6b6f0700468b1d890064015e95946b6afd4f4d\n",
      "Successfully built NNDT\n",
      "Installing collected packages: NNDT\n",
      "Successfully installed NNDT-0.0.3rc4\n",
      "Note: you may need to restart the kernel to use updated packages.\n",
      "Requirement already satisfied: ipyvtklink in /home/kostanew/anaconda3/lib/python3.9/site-packages (0.2.3)\n",
      "Requirement already satisfied: ipyevents>=0.8.0 in /home/kostanew/anaconda3/lib/python3.9/site-packages (from ipyvtklink) (2.0.1)\n",
      "Requirement already satisfied: ipywidgets~=7.7 in /home/kostanew/anaconda3/lib/python3.9/site-packages (from ipyvtklink) (7.7.2)\n",
      "Requirement already satisfied: ipycanvas>=0.5.0 in /home/kostanew/anaconda3/lib/python3.9/site-packages (from ipyvtklink) (0.13.1)\n",
      "Requirement already satisfied: numpy in /home/kostanew/anaconda3/lib/python3.9/site-packages (from ipycanvas>=0.5.0->ipyvtklink) (1.22.4)\n",
      "Requirement already satisfied: pillow>=6.0 in /home/kostanew/anaconda3/lib/python3.9/site-packages (from ipycanvas>=0.5.0->ipyvtklink) (9.0.1)\n",
      "Requirement already satisfied: traitlets>=4.3.1 in /home/kostanew/anaconda3/lib/python3.9/site-packages (from ipywidgets~=7.7->ipyvtklink) (5.1.1)\n",
      "Requirement already satisfied: widgetsnbextension~=3.6.0 in /home/kostanew/anaconda3/lib/python3.9/site-packages (from ipywidgets~=7.7->ipyvtklink) (3.6.1)\n",
      "Requirement already satisfied: jupyterlab-widgets<3,>=1.0.0 in /home/kostanew/anaconda3/lib/python3.9/site-packages (from ipywidgets~=7.7->ipyvtklink) (1.0.0)\n",
      "Requirement already satisfied: ipython-genutils~=0.2.0 in /home/kostanew/anaconda3/lib/python3.9/site-packages (from ipywidgets~=7.7->ipyvtklink) (0.2.0)\n",
      "Requirement already satisfied: ipython>=4.0.0 in /home/kostanew/anaconda3/lib/python3.9/site-packages (from ipywidgets~=7.7->ipyvtklink) (8.2.0)\n",
      "Requirement already satisfied: ipykernel>=4.5.1 in /home/kostanew/anaconda3/lib/python3.9/site-packages (from ipywidgets~=7.7->ipyvtklink) (6.9.1)\n",
      "Requirement already satisfied: debugpy<2.0,>=1.0.0 in /home/kostanew/anaconda3/lib/python3.9/site-packages (from ipykernel>=4.5.1->ipywidgets~=7.7->ipyvtklink) (1.5.1)\n",
      "Requirement already satisfied: tornado<7.0,>=4.2 in /home/kostanew/anaconda3/lib/python3.9/site-packages (from ipykernel>=4.5.1->ipywidgets~=7.7->ipyvtklink) (6.1)\n",
      "Requirement already satisfied: jupyter-client<8.0 in /home/kostanew/anaconda3/lib/python3.9/site-packages (from ipykernel>=4.5.1->ipywidgets~=7.7->ipyvtklink) (6.1.12)\n",
      "Requirement already satisfied: matplotlib-inline<0.2.0,>=0.1.0 in /home/kostanew/anaconda3/lib/python3.9/site-packages (from ipykernel>=4.5.1->ipywidgets~=7.7->ipyvtklink) (0.1.2)\n",
      "Requirement already satisfied: nest-asyncio in /home/kostanew/anaconda3/lib/python3.9/site-packages (from ipykernel>=4.5.1->ipywidgets~=7.7->ipyvtklink) (1.5.5)\n",
      "Requirement already satisfied: decorator in /home/kostanew/anaconda3/lib/python3.9/site-packages (from ipython>=4.0.0->ipywidgets~=7.7->ipyvtklink) (5.1.1)\n",
      "Requirement already satisfied: pexpect>4.3 in /home/kostanew/anaconda3/lib/python3.9/site-packages (from ipython>=4.0.0->ipywidgets~=7.7->ipyvtklink) (4.8.0)\n",
      "Requirement already satisfied: prompt-toolkit!=3.0.0,!=3.0.1,<3.1.0,>=2.0.0 in /home/kostanew/anaconda3/lib/python3.9/site-packages (from ipython>=4.0.0->ipywidgets~=7.7->ipyvtklink) (3.0.20)\n",
      "Requirement already satisfied: backcall in /home/kostanew/anaconda3/lib/python3.9/site-packages (from ipython>=4.0.0->ipywidgets~=7.7->ipyvtklink) (0.2.0)\n",
      "Requirement already satisfied: jedi>=0.16 in /home/kostanew/anaconda3/lib/python3.9/site-packages (from ipython>=4.0.0->ipywidgets~=7.7->ipyvtklink) (0.18.1)\n",
      "Requirement already satisfied: pygments>=2.4.0 in /home/kostanew/anaconda3/lib/python3.9/site-packages (from ipython>=4.0.0->ipywidgets~=7.7->ipyvtklink) (2.11.2)\n",
      "Requirement already satisfied: stack-data in /home/kostanew/anaconda3/lib/python3.9/site-packages (from ipython>=4.0.0->ipywidgets~=7.7->ipyvtklink) (0.2.0)\n",
      "Requirement already satisfied: pickleshare in /home/kostanew/anaconda3/lib/python3.9/site-packages (from ipython>=4.0.0->ipywidgets~=7.7->ipyvtklink) (0.7.5)\n",
      "Requirement already satisfied: setuptools>=18.5 in /home/kostanew/anaconda3/lib/python3.9/site-packages (from ipython>=4.0.0->ipywidgets~=7.7->ipyvtklink) (61.2.0)\n",
      "Requirement already satisfied: parso<0.9.0,>=0.8.0 in /home/kostanew/anaconda3/lib/python3.9/site-packages (from jedi>=0.16->ipython>=4.0.0->ipywidgets~=7.7->ipyvtklink) (0.8.3)\n",
      "Requirement already satisfied: pyzmq>=13 in /home/kostanew/anaconda3/lib/python3.9/site-packages (from jupyter-client<8.0->ipykernel>=4.5.1->ipywidgets~=7.7->ipyvtklink) (22.3.0)\n",
      "Requirement already satisfied: jupyter-core>=4.6.0 in /home/kostanew/anaconda3/lib/python3.9/site-packages (from jupyter-client<8.0->ipykernel>=4.5.1->ipywidgets~=7.7->ipyvtklink) (4.9.2)\n",
      "Requirement already satisfied: python-dateutil>=2.1 in /home/kostanew/anaconda3/lib/python3.9/site-packages (from jupyter-client<8.0->ipykernel>=4.5.1->ipywidgets~=7.7->ipyvtklink) (2.8.2)\n",
      "Requirement already satisfied: ptyprocess>=0.5 in /home/kostanew/anaconda3/lib/python3.9/site-packages (from pexpect>4.3->ipython>=4.0.0->ipywidgets~=7.7->ipyvtklink) (0.7.0)\n",
      "Requirement already satisfied: wcwidth in /home/kostanew/anaconda3/lib/python3.9/site-packages (from prompt-toolkit!=3.0.0,!=3.0.1,<3.1.0,>=2.0.0->ipython>=4.0.0->ipywidgets~=7.7->ipyvtklink) (0.2.5)\n",
      "Requirement already satisfied: six>=1.5 in /home/kostanew/anaconda3/lib/python3.9/site-packages (from python-dateutil>=2.1->jupyter-client<8.0->ipykernel>=4.5.1->ipywidgets~=7.7->ipyvtklink) (1.16.0)\n"
     ]
    },
    {
     "name": "stdout",
     "output_type": "stream",
     "text": [
      "Requirement already satisfied: notebook>=4.4.1 in /home/kostanew/anaconda3/lib/python3.9/site-packages (from widgetsnbextension~=3.6.0->ipywidgets~=7.7->ipyvtklink) (6.4.8)\n",
      "Requirement already satisfied: nbformat in /home/kostanew/anaconda3/lib/python3.9/site-packages (from notebook>=4.4.1->widgetsnbextension~=3.6.0->ipywidgets~=7.7->ipyvtklink) (5.3.0)\n",
      "Requirement already satisfied: jinja2 in /home/kostanew/anaconda3/lib/python3.9/site-packages (from notebook>=4.4.1->widgetsnbextension~=3.6.0->ipywidgets~=7.7->ipyvtklink) (2.11.3)\n",
      "Requirement already satisfied: argon2-cffi in /home/kostanew/anaconda3/lib/python3.9/site-packages (from notebook>=4.4.1->widgetsnbextension~=3.6.0->ipywidgets~=7.7->ipyvtklink) (21.3.0)\n",
      "Requirement already satisfied: Send2Trash>=1.8.0 in /home/kostanew/anaconda3/lib/python3.9/site-packages (from notebook>=4.4.1->widgetsnbextension~=3.6.0->ipywidgets~=7.7->ipyvtklink) (1.8.0)\n",
      "Requirement already satisfied: terminado>=0.8.3 in /home/kostanew/anaconda3/lib/python3.9/site-packages (from notebook>=4.4.1->widgetsnbextension~=3.6.0->ipywidgets~=7.7->ipyvtklink) (0.13.1)\n",
      "Requirement already satisfied: prometheus-client in /home/kostanew/anaconda3/lib/python3.9/site-packages (from notebook>=4.4.1->widgetsnbextension~=3.6.0->ipywidgets~=7.7->ipyvtklink) (0.13.1)\n",
      "Requirement already satisfied: nbconvert in /home/kostanew/anaconda3/lib/python3.9/site-packages (from notebook>=4.4.1->widgetsnbextension~=3.6.0->ipywidgets~=7.7->ipyvtklink) (6.4.4)\n",
      "Requirement already satisfied: argon2-cffi-bindings in /home/kostanew/anaconda3/lib/python3.9/site-packages (from argon2-cffi->notebook>=4.4.1->widgetsnbextension~=3.6.0->ipywidgets~=7.7->ipyvtklink) (21.2.0)\n",
      "Requirement already satisfied: cffi>=1.0.1 in /home/kostanew/anaconda3/lib/python3.9/site-packages (from argon2-cffi-bindings->argon2-cffi->notebook>=4.4.1->widgetsnbextension~=3.6.0->ipywidgets~=7.7->ipyvtklink) (1.15.0)\n",
      "Requirement already satisfied: pycparser in /home/kostanew/anaconda3/lib/python3.9/site-packages (from cffi>=1.0.1->argon2-cffi-bindings->argon2-cffi->notebook>=4.4.1->widgetsnbextension~=3.6.0->ipywidgets~=7.7->ipyvtklink) (2.21)\n",
      "Requirement already satisfied: MarkupSafe>=0.23 in /home/kostanew/anaconda3/lib/python3.9/site-packages (from jinja2->notebook>=4.4.1->widgetsnbextension~=3.6.0->ipywidgets~=7.7->ipyvtklink) (2.0.1)\n",
      "Requirement already satisfied: mistune<2,>=0.8.1 in /home/kostanew/anaconda3/lib/python3.9/site-packages (from nbconvert->notebook>=4.4.1->widgetsnbextension~=3.6.0->ipywidgets~=7.7->ipyvtklink) (0.8.4)\n",
      "Requirement already satisfied: jupyterlab-pygments in /home/kostanew/anaconda3/lib/python3.9/site-packages (from nbconvert->notebook>=4.4.1->widgetsnbextension~=3.6.0->ipywidgets~=7.7->ipyvtklink) (0.1.2)\n",
      "Requirement already satisfied: entrypoints>=0.2.2 in /home/kostanew/anaconda3/lib/python3.9/site-packages (from nbconvert->notebook>=4.4.1->widgetsnbextension~=3.6.0->ipywidgets~=7.7->ipyvtklink) (0.4)\n",
      "Requirement already satisfied: bleach in /home/kostanew/anaconda3/lib/python3.9/site-packages (from nbconvert->notebook>=4.4.1->widgetsnbextension~=3.6.0->ipywidgets~=7.7->ipyvtklink) (4.1.0)\n",
      "Requirement already satisfied: beautifulsoup4 in /home/kostanew/anaconda3/lib/python3.9/site-packages (from nbconvert->notebook>=4.4.1->widgetsnbextension~=3.6.0->ipywidgets~=7.7->ipyvtklink) (4.11.1)\n",
      "Requirement already satisfied: defusedxml in /home/kostanew/anaconda3/lib/python3.9/site-packages (from nbconvert->notebook>=4.4.1->widgetsnbextension~=3.6.0->ipywidgets~=7.7->ipyvtklink) (0.7.1)\n",
      "Requirement already satisfied: pandocfilters>=1.4.1 in /home/kostanew/anaconda3/lib/python3.9/site-packages (from nbconvert->notebook>=4.4.1->widgetsnbextension~=3.6.0->ipywidgets~=7.7->ipyvtklink) (1.5.0)\n",
      "Requirement already satisfied: nbclient<0.6.0,>=0.5.0 in /home/kostanew/anaconda3/lib/python3.9/site-packages (from nbconvert->notebook>=4.4.1->widgetsnbextension~=3.6.0->ipywidgets~=7.7->ipyvtklink) (0.5.13)\n",
      "Requirement already satisfied: testpath in /home/kostanew/anaconda3/lib/python3.9/site-packages (from nbconvert->notebook>=4.4.1->widgetsnbextension~=3.6.0->ipywidgets~=7.7->ipyvtklink) (0.5.0)\n",
      "Requirement already satisfied: fastjsonschema in /home/kostanew/anaconda3/lib/python3.9/site-packages (from nbformat->notebook>=4.4.1->widgetsnbextension~=3.6.0->ipywidgets~=7.7->ipyvtklink) (2.15.1)\n",
      "Requirement already satisfied: jsonschema>=2.6 in /home/kostanew/anaconda3/lib/python3.9/site-packages (from nbformat->notebook>=4.4.1->widgetsnbextension~=3.6.0->ipywidgets~=7.7->ipyvtklink) (4.4.0)\n",
      "Requirement already satisfied: attrs>=17.4.0 in /home/kostanew/anaconda3/lib/python3.9/site-packages (from jsonschema>=2.6->nbformat->notebook>=4.4.1->widgetsnbextension~=3.6.0->ipywidgets~=7.7->ipyvtklink) (21.4.0)\n",
      "Requirement already satisfied: pyrsistent!=0.17.0,!=0.17.1,!=0.17.2,>=0.14.0 in /home/kostanew/anaconda3/lib/python3.9/site-packages (from jsonschema>=2.6->nbformat->notebook>=4.4.1->widgetsnbextension~=3.6.0->ipywidgets~=7.7->ipyvtklink) (0.18.0)\n",
      "Requirement already satisfied: soupsieve>1.2 in /home/kostanew/anaconda3/lib/python3.9/site-packages (from beautifulsoup4->nbconvert->notebook>=4.4.1->widgetsnbextension~=3.6.0->ipywidgets~=7.7->ipyvtklink) (2.3.1)\n",
      "Requirement already satisfied: webencodings in /home/kostanew/anaconda3/lib/python3.9/site-packages (from bleach->nbconvert->notebook>=4.4.1->widgetsnbextension~=3.6.0->ipywidgets~=7.7->ipyvtklink) (0.5.1)\n",
      "Requirement already satisfied: packaging in /home/kostanew/anaconda3/lib/python3.9/site-packages (from bleach->nbconvert->notebook>=4.4.1->widgetsnbextension~=3.6.0->ipywidgets~=7.7->ipyvtklink) (21.3)\n",
      "Requirement already satisfied: pyparsing!=3.0.5,>=2.0.2 in /home/kostanew/anaconda3/lib/python3.9/site-packages (from packaging->bleach->nbconvert->notebook>=4.4.1->widgetsnbextension~=3.6.0->ipywidgets~=7.7->ipyvtklink) (3.0.4)\n",
      "Requirement already satisfied: pure-eval in /home/kostanew/anaconda3/lib/python3.9/site-packages (from stack-data->ipython>=4.0.0->ipywidgets~=7.7->ipyvtklink) (0.2.2)\n",
      "Requirement already satisfied: executing in /home/kostanew/anaconda3/lib/python3.9/site-packages (from stack-data->ipython>=4.0.0->ipywidgets~=7.7->ipyvtklink) (0.8.3)\n",
      "Requirement already satisfied: asttokens in /home/kostanew/anaconda3/lib/python3.9/site-packages (from stack-data->ipython>=4.0.0->ipywidgets~=7.7->ipyvtklink) (2.0.5)\n",
      "Note: you may need to restart the kernel to use updated packages.\n"
     ]
    }
   ],
   "source": [
    "%pip install git+https://github.com/nndt-team/nndt.git\n",
    "%pip install ipyvtklink"
   ]
  },
  {
   "cell_type": "code",
   "execution_count": 1,
   "id": "73cb602c",
   "metadata": {},
   "outputs": [
    {
     "data": {
      "text/plain": [
       "'0.0.3rc4'"
      ]
     },
     "execution_count": 1,
     "metadata": {},
     "output_type": "execute_result"
    }
   ],
   "source": [
    "import nndt\n",
    "import nndt.space2 as spc\n",
    "from nndt.datasets import ACDC\n",
    "\n",
    "nndt.__version__"
   ]
  },
  {
   "cell_type": "code",
   "execution_count": 2,
   "id": "1e7143ac",
   "metadata": {},
   "outputs": [
    {
     "name": "stderr",
     "output_type": "stream",
     "text": [
      "92it [00:00, 281661.29it/s]\n"
     ]
    }
   ],
   "source": [
    "space = spc.Space(\"space\")\n",
    "space = spc.add_sphere(space, \"sp1\", center=(1.0, 1.0, 1.0), radius=1.0)\n",
    "space = spc.add_sphere(space, \"sp2\", center=(-1.0, -1.0, -1.0), radius=2.0)\n",
    "space.preload()"
   ]
  },
  {
   "cell_type": "code",
   "execution_count": 3,
   "id": "4234a9e8",
   "metadata": {},
   "outputs": [
    {
     "name": "stderr",
     "output_type": "stream",
     "text": [
      "WARNING:absl:No GPU/TPU found, falling back to CPU. (Set TF_CPP_MIN_LOG_LEVEL=0 and rerun for more info.)\n"
     ]
    },
    {
     "data": {
      "application/vnd.jupyter.widget-view+json": {
       "model_id": "9e2f6e7ac9ac4c9e924c792fa81f5f64",
       "version_major": 2,
       "version_minor": 0
      },
      "text/plain": [
       "ViewInteractiveWidget(height=768, layout=Layout(height='auto', width='100%'), width=1024)"
      ]
     },
     "metadata": {},
     "output_type": "display_data"
    }
   ],
   "source": [
    "space.plot()"
   ]
  }
 ],
 "metadata": {
  "kernelspec": {
   "display_name": "Python 3 (ipykernel)",
   "language": "python",
   "name": "python3"
  },
  "language_info": {
   "codemirror_mode": {
    "name": "ipython",
    "version": 3
   },
   "file_extension": ".py",
   "mimetype": "text/x-python",
   "name": "python",
   "nbconvert_exporter": "python",
   "pygments_lexer": "ipython3",
   "version": "3.9.12"
  }
 },
 "nbformat": 4,
 "nbformat_minor": 5
}
